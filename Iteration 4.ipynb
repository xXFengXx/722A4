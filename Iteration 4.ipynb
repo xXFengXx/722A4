{
 "cells": [
  {
   "cell_type": "markdown",
   "id": "6e76082e",
   "metadata": {},
   "source": [
    "# Infor722 Iteration 4 "
   ]
  },
  {
   "cell_type": "code",
   "execution_count": 27,
   "id": "e6b7b4dd",
   "metadata": {},
   "outputs": [],
   "source": [
    "import findspark\n",
    "findspark.init('/home/ubuntu/spark-3.2.1-bin-hadoop2.7')\n",
    "import pyspark\n",
    "from pyspark.sql import SparkSession\n",
    "from pyspark.sql.functions import col, count, when, avg, monotonically_increasing_id"
   ]
  },
  {
   "cell_type": "code",
   "execution_count": 28,
   "id": "7df2e212",
   "metadata": {},
   "outputs": [],
   "source": [
    "spark = SparkSession.builder.master(\"local[1]\").appName(\"SparkApp\")\\\n",
    "    .config(\"spark.executor.memory\", \"4g\")\\\n",
    "    .config(\"spark.driver.memory\", \"4g\") \\\n",
    "    .getOrCreate()"
   ]
  },
  {
   "cell_type": "markdown",
   "id": "9301e394",
   "metadata": {},
   "source": [
    "## 2. Data Understand"
   ]
  },
  {
   "cell_type": "markdown",
   "id": "95b3ed26",
   "metadata": {},
   "source": [
    "### 2.1. Load Dataset"
   ]
  },
  {
   "cell_type": "code",
   "execution_count": 29,
   "id": "fde90e21",
   "metadata": {},
   "outputs": [],
   "source": [
    "df_main = spark.read.csv('Datasets/diabetes_012_health_indicators_BRFSS2021.csv', header=True)\n",
    "df_income = spark.read.csv('Datasets/diabetes_Income.csv', header=True)"
   ]
  },
  {
   "cell_type": "markdown",
   "id": "d578da1e",
   "metadata": {},
   "source": [
    "### 2.3. Explore Data"
   ]
  },
  {
   "cell_type": "code",
   "execution_count": 30,
   "id": "9ebbec3b",
   "metadata": {},
   "outputs": [
    {
     "name": "stderr",
     "output_type": "stream",
     "text": [
      "\r",
      "[Stage 71:>                                                         (0 + 1) / 1]\r"
     ]
    },
    {
     "name": "stdout",
     "output_type": "stream",
     "text": [
      "+-------+-------------------+------------------+-------------------+-------------------+------------------+-------------------+-------------------+--------------------+------------------+-------------------+-------------------+-------------------+-------------------+-------------------+------------------+-----------------+-----------------+------------------+------+-----------------+------------------+\n",
      "|summary|       Diabetes_012|            HighBP|           HighChol|          CholCheck|               BMI|             Smoker|             Stroke|HeartDiseaseorAttack|      PhysActivity|             Fruits|            Veggies|  HvyAlcoholConsump|      AnyHealthcare|        NoDocbcCost|           GenHlth|         MentHlth|         PhysHlth|          DiffWalk|   Sex|              Age|         Education|\n",
      "+-------+-------------------+------------------+-------------------+-------------------+------------------+-------------------+-------------------+--------------------+------------------+-------------------+-------------------+-------------------+-------------------+-------------------+------------------+-----------------+-----------------+------------------+------+-----------------+------------------+\n",
      "|  count|             236378|            236378|             236377|             236377|            236364|             236369|             236371|              236368|            236366|             236369|             236371|             236369|             236371|             236374|            236373|           236375|           236372|            236374|236378|           236377|            236376|\n",
      "|   mean|0.30779091116770596|0.4185584106811971|0.40206111423700275| 0.9633466877065028|29.808549525308422|0.41199988154114964|0.03890071117015201| 0.08654724835849184|0.7792364384048467| 0.6212616713697651| 0.8277665195815054|0.06208512960667431| 0.9625757812929674|0.06373797456573058|2.4807148024520567|3.949571655208884|3.755072512818777| 0.153950942150998|  null|7.864969942084044|5.1392823298473616|\n",
      "| stddev|  0.705037185177366|0.4933237244464948| 0.4903151962900655|0.18790954305572985| 411.3712113946665|0.49219610325707497| 0.1933587443432697| 0.28117104514241414|0.4147622683771524|0.48507381141394573|0.37758404601119716|0.24131061444523627|0.18979936502747566|0.24428609789962608|1.0291253354170522|9.479330795436876|8.336330976770407|0.3609024807311405|  null|3.276332690930958|0.9502826718634383|\n",
      "|    min|                  0|                 0|                  0|                  0|               100|                  0|                  0|                   0|                 0|                  0|                  0|                  0|                  0|                  0|                 1|               -1|                0|                 0|     F|                1|                 1|\n",
      "|    max|                  2|                 1|                  1|                  1|                99|                  1|                  1|                   1|                 1|                  1|                  1|                  1|                  1|                  1|                 5|                9|                9|                 1|female|                9|                 6|\n",
      "+-------+-------------------+------------------+-------------------+-------------------+------------------+-------------------+-------------------+--------------------+------------------+-------------------+-------------------+-------------------+-------------------+-------------------+------------------+-----------------+-----------------+------------------+------+-----------------+------------------+\n",
      "\n"
     ]
    },
    {
     "name": "stderr",
     "output_type": "stream",
     "text": [
      "\r",
      "                                                                                \r"
     ]
    }
   ],
   "source": [
    "df_desc = df_main.describe()\n",
    "df_desc.show()"
   ]
  },
  {
   "cell_type": "code",
   "execution_count": 31,
   "id": "4587d18b",
   "metadata": {},
   "outputs": [
    {
     "name": "stdout",
     "output_type": "stream",
     "text": [
      "root\n",
      " |-- Diabetes_012: string (nullable = true)\n",
      " |-- HighBP: string (nullable = true)\n",
      " |-- HighChol: string (nullable = true)\n",
      " |-- CholCheck: string (nullable = true)\n",
      " |-- BMI: string (nullable = true)\n",
      " |-- Smoker: string (nullable = true)\n",
      " |-- Stroke: string (nullable = true)\n",
      " |-- HeartDiseaseorAttack: string (nullable = true)\n",
      " |-- PhysActivity: string (nullable = true)\n",
      " |-- Fruits: string (nullable = true)\n",
      " |-- Veggies: string (nullable = true)\n",
      " |-- HvyAlcoholConsump: string (nullable = true)\n",
      " |-- AnyHealthcare: string (nullable = true)\n",
      " |-- NoDocbcCost: string (nullable = true)\n",
      " |-- GenHlth: string (nullable = true)\n",
      " |-- MentHlth: string (nullable = true)\n",
      " |-- PhysHlth: string (nullable = true)\n",
      " |-- DiffWalk: string (nullable = true)\n",
      " |-- Sex: string (nullable = true)\n",
      " |-- Age: string (nullable = true)\n",
      " |-- Education: string (nullable = true)\n",
      "\n"
     ]
    }
   ],
   "source": [
    "df_main.printSchema()"
   ]
  },
  {
   "cell_type": "code",
   "execution_count": 32,
   "id": "4a225b8e",
   "metadata": {},
   "outputs": [
    {
     "name": "stdout",
     "output_type": "stream",
     "text": [
      "+------------+------+\n",
      "|Diabetes_012| count|\n",
      "+------------+------+\n",
      "|           0|197191|\n",
      "|           1|  5619|\n",
      "|           2| 33568|\n",
      "+------------+------+\n",
      "\n"
     ]
    },
    {
     "name": "stderr",
     "output_type": "stream",
     "text": [
      "\r",
      "[Stage 74:>                                                         (0 + 1) / 1]\r",
      "\r",
      "                                                                                \r"
     ]
    }
   ],
   "source": [
    "diabetes_counts = df_main.groupBy(\"Diabetes_012\").count()\n",
    "diabetes_counts.show()"
   ]
  },
  {
   "cell_type": "markdown",
   "id": "e520be79",
   "metadata": {},
   "source": [
    "### 2.4. Verify the data quality"
   ]
  },
  {
   "cell_type": "code",
   "execution_count": 33,
   "id": "2f169fac",
   "metadata": {},
   "outputs": [
    {
     "name": "stdout",
     "output_type": "stream",
     "text": [
      "root\n",
      " |-- Diabetes_012: string (nullable = true)\n",
      " |-- HighBP: string (nullable = true)\n",
      " |-- HighChol: string (nullable = true)\n",
      " |-- CholCheck: string (nullable = true)\n",
      " |-- BMI: string (nullable = true)\n",
      " |-- Smoker: string (nullable = true)\n",
      " |-- Stroke: string (nullable = true)\n",
      " |-- HeartDiseaseorAttack: string (nullable = true)\n",
      " |-- PhysActivity: string (nullable = true)\n",
      " |-- Fruits: string (nullable = true)\n",
      " |-- Veggies: string (nullable = true)\n",
      " |-- HvyAlcoholConsump: string (nullable = true)\n",
      " |-- AnyHealthcare: string (nullable = true)\n",
      " |-- NoDocbcCost: string (nullable = true)\n",
      " |-- GenHlth: string (nullable = true)\n",
      " |-- MentHlth: string (nullable = true)\n",
      " |-- PhysHlth: string (nullable = true)\n",
      " |-- DiffWalk: string (nullable = true)\n",
      " |-- Sex: string (nullable = true)\n",
      " |-- Age: string (nullable = true)\n",
      " |-- Education: string (nullable = true)\n",
      "\n"
     ]
    }
   ],
   "source": [
    "df_main.printSchema()"
   ]
  },
  {
   "cell_type": "code",
   "execution_count": 34,
   "id": "b82ad982",
   "metadata": {},
   "outputs": [
    {
     "name": "stderr",
     "output_type": "stream",
     "text": [
      "\r",
      "[Stage 77:>                                                         (0 + 1) / 1]\r"
     ]
    },
    {
     "name": "stdout",
     "output_type": "stream",
     "text": [
      "+------------+------+--------+---------+---+------+------+--------------------+------------+------+-------+-----------------+-------------+-----------+-------+--------+--------+--------+---+---+---------+\n",
      "|Diabetes_012|HighBP|HighChol|CholCheck|BMI|Smoker|Stroke|HeartDiseaseorAttack|PhysActivity|Fruits|Veggies|HvyAlcoholConsump|AnyHealthcare|NoDocbcCost|GenHlth|MentHlth|PhysHlth|DiffWalk|Sex|Age|Education|\n",
      "+------------+------+--------+---------+---+------+------+--------------------+------------+------+-------+-----------------+-------------+-----------+-------+--------+--------+--------+---+---+---------+\n",
      "|           0|     0|       1|        1| 14|     9|     7|                  10|          12|     9|      7|                9|            7|          4|      5|       3|       6|       4|  0|  1|        2|\n",
      "+------------+------+--------+---------+---+------+------+--------------------+------------+------+-------+-----------------+-------------+-----------+-------+--------+--------+--------+---+---+---------+\n",
      "\n"
     ]
    },
    {
     "name": "stderr",
     "output_type": "stream",
     "text": [
      "\r",
      "                                                                                \r"
     ]
    }
   ],
   "source": [
    "# Count the number of missing values per column\n",
    "missing_values = df_main.select([count(when(col(c).isNull(), c)).alias(c) for c in df_main.columns])\n",
    "missing_values.show()"
   ]
  },
  {
   "cell_type": "code",
   "execution_count": 35,
   "id": "375de175",
   "metadata": {},
   "outputs": [
    {
     "name": "stderr",
     "output_type": "stream",
     "text": [
      "\r",
      "[Stage 83:>                                                         (0 + 1) / 1]\r"
     ]
    },
    {
     "name": "stdout",
     "output_type": "stream",
     "text": [
      "+------------+------+--------------------+--------------------+--------------------+--------------------+--------------------+--------------------+--------------------+--------------------+--------------------+--------------------+--------------------+--------------------+--------------------+--------------------+--------------------+--------------------+---+--------------------+--------------------+\n",
      "|Diabetes_012|HighBP|            HighChol|           CholCheck|                 BMI|              Smoker|              Stroke|HeartDiseaseorAttack|        PhysActivity|              Fruits|             Veggies|   HvyAlcoholConsump|       AnyHealthcare|         NoDocbcCost|             GenHlth|            MentHlth|            PhysHlth|            DiffWalk|Sex|                 Age|           Education|\n",
      "+------------+------+--------------------+--------------------+--------------------+--------------------+--------------------+--------------------+--------------------+--------------------+--------------------+--------------------+--------------------+--------------------+--------------------+--------------------+--------------------+--------------------+---+--------------------+--------------------+\n",
      "|         0.0|   0.0|4.230512145800371E-4|4.230512145800371E-4|0.005922717004120519|0.003807460931220...|0.002961358502060...|0.004230512145800...|0.005076614574960445|0.003807460931220...|0.002961358502060...|0.003807460931220...|0.002961358502060...|0.001692204858320...|0.002115256072900...|0.001269153643740...|0.002538307287480...|0.001692204858320...|0.0|4.230512145800371E-4|8.461024291600742E-4|\n",
      "+------------+------+--------------------+--------------------+--------------------+--------------------+--------------------+--------------------+--------------------+--------------------+--------------------+--------------------+--------------------+--------------------+--------------------+--------------------+--------------------+--------------------+---+--------------------+--------------------+\n",
      "\n"
     ]
    },
    {
     "name": "stderr",
     "output_type": "stream",
     "text": [
      "\r",
      "                                                                                \r"
     ]
    }
   ],
   "source": [
    "# Percentage of missing values in the dataset\n",
    "total_rows = df_main.count()\n",
    "missing_percentage = df_main.select([(count(when(col(c).isNull(), c)) / total_rows * 100).alias(c) for c in df_main.columns])\n",
    "missing_percentage.show()"
   ]
  },
  {
   "cell_type": "code",
   "execution_count": 36,
   "id": "509812ee",
   "metadata": {},
   "outputs": [
    {
     "name": "stdout",
     "output_type": "stream",
     "text": [
      "+------+------+\n",
      "|   Sex| count|\n",
      "+------+------+\n",
      "|     F|     3|\n",
      "|Female|123426|\n",
      "|female|     2|\n",
      "|     M|     3|\n",
      "|  feee|     1|\n",
      "|  Male|112943|\n",
      "+------+------+\n",
      "\n"
     ]
    }
   ],
   "source": [
    "# Value counts for the 'Sex' column\n",
    "sex_distribution = df_main.groupBy(\"Sex\").count()\n",
    "sex_distribution.show()"
   ]
  },
  {
   "cell_type": "markdown",
   "id": "5db65a9d",
   "metadata": {},
   "source": [
    "## 3. Data preparation"
   ]
  },
  {
   "cell_type": "markdown",
   "id": "9952b482",
   "metadata": {},
   "source": [
    "### 3.1. Selecte data"
   ]
  },
  {
   "cell_type": "code",
   "execution_count": 37,
   "id": "fa9b3f7f",
   "metadata": {},
   "outputs": [
    {
     "name": "stdout",
     "output_type": "stream",
     "text": [
      "+------------+------+--------+---------+---+------+------+--------------------+------------+------+-------+-----------------+-------------+-----------+-------+--------+--------+------+---+\n",
      "|Diabetes_012|HighBP|HighChol|CholCheck|BMI|Smoker|Stroke|HeartDiseaseorAttack|PhysActivity|Fruits|Veggies|HvyAlcoholConsump|AnyHealthcare|NoDocbcCost|GenHlth|PhysHlth|DiffWalk|   Sex|Age|\n",
      "+------------+------+--------+---------+---+------+------+--------------------+------------+------+-------+-----------------+-------------+-----------+-------+--------+--------+------+---+\n",
      "|           0|     0|       1|        1| 15|     1|     0|                   0|           0|     1|      1|                0|            1|          0|      5|      20|       0|Female| 11|\n",
      "|           2|     1|       0|        1| 28|     0|     0|                   1|           0|     1|      0|                0|            1|          0|      2|       0|       0|Female| 11|\n",
      "|           2|     1|       1|        1| 33|     0|     0|                   0|           1|     1|      1|                0|            1|          0|      2|       0|       0|Female|  9|\n",
      "|           2|     0|       1|        1| 29|     0|     1|                   1|           1|     1|      1|                0|            1|          0|      5|      30|       1|  Male| 12|\n",
      "|           0|     0|       0|        1| 24|     1|     0|                   0|           0|     0|      0|                0|            1|          0|      3|       0|       1|  Male| 13|\n",
      "|           0|     1|       0|        1|250|     1|     0|                   0|           1|     1|      1|                0|            1|          0|      3|      25|       1|Female| 10|\n",
      "|           0|     1|       1|        1| 27|     1|     0|                   0|           0|     0|      1|                0|            1|          0|      4|       0|       0|Female| 10|\n",
      "|           2|     0|       0|        1| 24|     0|     0|                   1|           0|     0|      1|                0|            1|          0|      4|       0|       0|  Male| 12|\n",
      "|           0|     1|       1|        1| 30|     0|     0|                   0|           0|     1|      1|                0|            1|          0|      2|       0|       0|female|  7|\n",
      "|           0|     1|       1|        1| 36|     1|     0|                   0|           0|     0|      0|                0|            1|          0|      4|       0|       0|  Male| 10|\n",
      "|           2|     0|       0|        1| 33|     1|     0|                   0|           1|     0|      1|                0|            1|          0|      4|       0|       0|  Male|  6|\n",
      "|           2|     1|       1|        1| 30|     0|     0|                   0|           0|     1|      1|                0|            1|          0|      3|       4|       0|Female| 11|\n",
      "|           2|     0|       0|        1| 27|     0|     0|                   0|           0|     0|      1|                0|            1|          0|      4|      30|       0|  Male| 13|\n",
      "|           2|     0|       0|        1| 31|     1|     0|                   0|           0|     1|      1|                0|            1|          0|      3|      10|       0|Female|  8|\n",
      "|           0|     1|       1|        1| 27|     1|     0|                   0|           0|     1|      1|                0|            1|          0|      3|       2|       1|Female| 13|\n",
      "|           0|     1|       1|        1| 35|     1|     0|                   0|           1|     1|      0|                0|            1|          0|      3|       3|       0|Female| 11|\n",
      "|           0|     1|       1|        1| 30|     0|     0|                   0|           1|     1|      0|                0|            1|          0|      2|      10|       0|Female| 10|\n",
      "|           0|     0|       0|        1| 31|     0|     0|                   0|           1|     1|      1|                0|            1|          0|      1|       2|       0|  Male| 11|\n",
      "|           1|     1|       1|        1| 33|     0|     0|                   0|           0|     1|      1|                0|            1|          0|      2|       0|       0|Female| 11|\n",
      "|           0|     0|       0|        1| 31|     1|     0|                   0|           1|     1|      1|                0|            1|          0|      4|       0|       0|Female| 10|\n",
      "+------------+------+--------+---------+---+------+------+--------------------+------------+------+-------+-----------------+-------------+-----------+-------+--------+--------+------+---+\n",
      "only showing top 20 rows\n",
      "\n",
      "+------------+------+--------+---------+---+------+------+--------------------+------------+------+-------+-----------------+-------------+-----------+-------+--------+--------+------+---+\n",
      "|Diabetes_012|HighBP|HighChol|CholCheck|BMI|Smoker|Stroke|HeartDiseaseorAttack|PhysActivity|Fruits|Veggies|HvyAlcoholConsump|AnyHealthcare|NoDocbcCost|GenHlth|PhysHlth|DiffWalk|   Sex|Age|\n",
      "+------------+------+--------+---------+---+------+------+--------------------+------------+------+-------+-----------------+-------------+-----------+-------+--------+--------+------+---+\n",
      "|           0|     0|       1|        1| 15|     1|     0|                   0|           0|     1|      1|                0|            1|          0|      5|      20|       0|Female| 11|\n",
      "|           2|     1|       0|        1| 28|     0|     0|                   1|           0|     1|      0|                0|            1|          0|      2|       0|       0|Female| 11|\n",
      "|           2|     1|       1|        1| 33|     0|     0|                   0|           1|     1|      1|                0|            1|          0|      2|       0|       0|Female|  9|\n",
      "|           2|     0|       1|        1| 29|     0|     1|                   1|           1|     1|      1|                0|            1|          0|      5|      30|       1|  Male| 12|\n",
      "|           0|     0|       0|        1| 24|     1|     0|                   0|           0|     0|      0|                0|            1|          0|      3|       0|       1|  Male| 13|\n",
      "+------------+------+--------+---------+---+------+------+--------------------+------------+------+-------+-----------------+-------------+-----------+-------+--------+--------+------+---+\n",
      "only showing top 5 rows\n",
      "\n"
     ]
    }
   ],
   "source": [
    "main_df = df_main.drop('Education', 'MentHlth')\n",
    "\n",
    "# Show the DataFrame to confirm columns are dropped\n",
    "main_df.show()\n",
    "\n",
    "# Display the first few rows of the DataFrame\n",
    "main_df.show(5)"
   ]
  },
  {
   "cell_type": "code",
   "execution_count": 38,
   "id": "633b54fb",
   "metadata": {},
   "outputs": [
    {
     "name": "stdout",
     "output_type": "stream",
     "text": [
      "The number of columns in the DataFrame is: 19\n"
     ]
    }
   ],
   "source": [
    "num_columns = len(main_df.columns)\n",
    "print(f\"The number of columns in the DataFrame is: {num_columns}\")"
   ]
  },
  {
   "cell_type": "markdown",
   "id": "ad58c58b",
   "metadata": {},
   "source": [
    "### 3.2. Clean Data"
   ]
  },
  {
   "cell_type": "code",
   "execution_count": 39,
   "id": "64e9d260",
   "metadata": {},
   "outputs": [],
   "source": [
    "# Clean 'main_df' DataFrame\n",
    "main_df = main_df.withColumn(\"Age\", when((col(\"Age\") < 1) | (col(\"Age\") > 13), None).otherwise(col(\"Age\")))\n",
    "main_df = main_df.withColumn(\"Diabetes_012\", when(~col(\"Diabetes_012\").isin([0, 1, 2]), None).otherwise(col(\"Diabetes_012\")))\n",
    "main_df = main_df.withColumn(\"HighBP\", when(~col(\"HighBP\").isin([0, 1]), None).otherwise(col(\"HighBP\")))\n",
    "main_df = main_df.withColumn(\"HighChol\", when(~col(\"HighChol\").isin([0, 1]), None).otherwise(col(\"HighChol\")))\n",
    "main_df = main_df.withColumn(\"CholCheck\", when(~col(\"CholCheck\").isin([0, 1]), None).otherwise(col(\"CholCheck\")))\n",
    "main_df = main_df.withColumn(\"BMI\", when((col(\"BMI\") < 12) | (col(\"BMI\") > 99), None).otherwise(col(\"BMI\")))\n",
    "main_df = main_df.withColumn(\"Smoker\", when(~col(\"Smoker\").isin([0, 1]), None).otherwise(col(\"Smoker\")))\n",
    "main_df = main_df.withColumn(\"Stroke\", when(~col(\"Stroke\").isin([0, 1]), None).otherwise(col(\"Stroke\")))\n",
    "main_df = main_df.withColumn(\"HeartDiseaseorAttack\", when(~col(\"HeartDiseaseorAttack\").isin([0, 1]), None).otherwise(col(\"HeartDiseaseorAttack\")))\n",
    "main_df = main_df.withColumn(\"PhysActivity\", when(~col(\"PhysActivity\").isin([0, 1]), None).otherwise(col(\"PhysActivity\")))\n",
    "main_df = main_df.withColumn(\"Fruits\", when(~col(\"Fruits\").isin([0, 1]), None).otherwise(col(\"Fruits\")))\n",
    "main_df = main_df.withColumn(\"Veggies\", when(~col(\"Veggies\").isin([0, 1]), None).otherwise(col(\"Veggies\")))\n",
    "main_df = main_df.withColumn(\"HvyAlcoholConsump\", when(~col(\"HvyAlcoholConsump\").isin([0, 1]), None).otherwise(col(\"HvyAlcoholConsump\")))\n",
    "main_df = main_df.withColumn(\"AnyHealthcare\", when(~col(\"AnyHealthcare\").isin([0, 1]), None).otherwise(col(\"AnyHealthcare\")))\n",
    "main_df = main_df.withColumn(\"NoDocbcCost\", when(~col(\"NoDocbcCost\").isin([0, 1]), None).otherwise(col(\"NoDocbcCost\")))\n",
    "main_df = main_df.withColumn(\"GenHlth\", when(~col(\"GenHlth\").isin([1, 2, 3, 4, 5]), None).otherwise(col(\"GenHlth\")))\n",
    "main_df = main_df.withColumn(\"PhysHlth\", when((col(\"PhysHlth\") < 0) | (col(\"PhysHlth\") > 30), None).otherwise(col(\"PhysHlth\")))\n",
    "main_df = main_df.withColumn(\"DiffWalk\", when(~col(\"DiffWalk\").isin([0, 1]), None).otherwise(col(\"DiffWalk\")))\n",
    "\n",
    "# Clean 'second_df' DataFrame\n",
    "second_df = df_income.withColumn(\"Income\", when((col(\"Income\") < 1) | (col(\"Income\") > 11), None).otherwise(col(\"Income\")))"
   ]
  },
  {
   "cell_type": "code",
   "execution_count": 40,
   "id": "cbfefe4b",
   "metadata": {},
   "outputs": [
    {
     "name": "stderr",
     "output_type": "stream",
     "text": [
      "\r",
      "[Stage 91:>                                                         (0 + 1) / 1]\r"
     ]
    },
    {
     "name": "stdout",
     "output_type": "stream",
     "text": [
      "+---+------------+------+--------+---------+---+------+------+--------------------+------------+------+-------+-----------------+-------------+-----------+-------+--------+--------+\n",
      "|Age|Diabetes_012|HighBP|HighChol|CholCheck|BMI|Smoker|Stroke|HeartDiseaseorAttack|PhysActivity|Fruits|Veggies|HvyAlcoholConsump|AnyHealthcare|NoDocbcCost|GenHlth|PhysHlth|DiffWalk|\n",
      "+---+------------+------+--------+---------+---+------+------+--------------------+------------+------+-------+-----------------+-------------+-----------+-------+--------+--------+\n",
      "|  2|           0|     0|       1|        1| 29|     9|     7|                  10|          12|     9|      7|                9|            7|          4|      5|       9|       4|\n",
      "+---+------------+------+--------+---------+---+------+------+--------------------+------------+------+-------+-----------------+-------------+-----------+-------+--------+--------+\n",
      "\n"
     ]
    },
    {
     "name": "stderr",
     "output_type": "stream",
     "text": [
      "\r",
      "                                                                                \r"
     ]
    }
   ],
   "source": [
    "columns_of_interest = [\n",
    "    'Age', 'Diabetes_012', 'HighBP', 'HighChol', 'CholCheck', 'BMI', 'Smoker',\n",
    "    'Stroke', 'HeartDiseaseorAttack', 'PhysActivity', 'Fruits', 'Veggies',\n",
    "    'HvyAlcoholConsump', 'AnyHealthcare', 'NoDocbcCost', 'GenHlth', 'PhysHlth',\n",
    "    'DiffWalk'\n",
    "]\n",
    "\n",
    "# Calculate missing values for each field in the main DataFrame\n",
    "missing_values = main_df.select([count(when(col(c).isNull(), c)).alias(c) for c in columns_of_interest])\n",
    "missing_values.show()"
   ]
  },
  {
   "cell_type": "code",
   "execution_count": 41,
   "id": "cc9e1ca9",
   "metadata": {},
   "outputs": [
    {
     "name": "stdout",
     "output_type": "stream",
     "text": [
      "+------+\n",
      "|Income|\n",
      "+------+\n",
      "|     0|\n",
      "+------+\n",
      "\n"
     ]
    }
   ],
   "source": [
    "# Calculate missing values for the 'Income' field in the second DataFrame\n",
    "missing_values_second = second_df.select([count(when(col('Income').isNull(), 'Income')).alias('Income')])\n",
    "missing_values_second.show()"
   ]
  },
  {
   "cell_type": "code",
   "execution_count": 42,
   "id": "46c26d76",
   "metadata": {},
   "outputs": [],
   "source": [
    "binary_columns = [\n",
    "    'HighBP', 'HighChol', 'CholCheck', 'Smoker', 'Stroke', 'HeartDiseaseorAttack',\n",
    "    'PhysActivity', 'Fruits', 'Veggies', 'HvyAlcoholConsump', 'AnyHealthcare',\n",
    "    'NoDocbcCost', 'DiffWalk'\n",
    "]\n",
    "\n",
    "# Replace NaN in binary columns with 1\n",
    "for col_name in binary_columns:\n",
    "    main_df = main_df.na.fill({col_name: 1})"
   ]
  },
  {
   "cell_type": "code",
   "execution_count": 43,
   "id": "34b18a14",
   "metadata": {},
   "outputs": [
    {
     "name": "stderr",
     "output_type": "stream",
     "text": [
      "                                                                                \r"
     ]
    }
   ],
   "source": [
    "# Define non-binary columns\n",
    "non_binary_columns = [\n",
    "    'Age', 'Diabetes_012', 'BMI', 'GenHlth', 'PhysHlth'\n",
    "]\n",
    "\n",
    "# Replace NaN in non-binary columns with the column's mean\n",
    "for col_name in non_binary_columns:\n",
    "    mean_value = main_df.select(avg(col_name)).first()[0]\n",
    "    main_df = main_df.na.fill({col_name: mean_value})"
   ]
  },
  {
   "cell_type": "code",
   "execution_count": 44,
   "id": "df7ac7e6",
   "metadata": {},
   "outputs": [
    {
     "name": "stdout",
     "output_type": "stream",
     "text": [
      "+---+------------+------+--------+---------+---+------+------+--------------------+------------+------+-------+-----------------+-------------+-----------+-------+--------+--------+\n",
      "|Age|Diabetes_012|HighBP|HighChol|CholCheck|BMI|Smoker|Stroke|HeartDiseaseorAttack|PhysActivity|Fruits|Veggies|HvyAlcoholConsump|AnyHealthcare|NoDocbcCost|GenHlth|PhysHlth|DiffWalk|\n",
      "+---+------------+------+--------+---------+---+------+------+--------------------+------------+------+-------+-----------------+-------------+-----------+-------+--------+--------+\n",
      "|  0|           0|     0|       0|        0|  0|     0|     0|                   0|           0|     0|      0|                0|            0|          0|      0|       0|       0|\n",
      "+---+------------+------+--------+---------+---+------+------+--------------------+------------+------+-------+-----------------+-------------+-----------+-------+--------+--------+\n",
      "\n"
     ]
    }
   ],
   "source": [
    "columns_of_interest = [\n",
    "    'Age', 'Diabetes_012', 'HighBP', 'HighChol', 'CholCheck', 'BMI', 'Smoker',\n",
    "    'Stroke', 'HeartDiseaseorAttack', 'PhysActivity', 'Fruits', 'Veggies',\n",
    "    'HvyAlcoholConsump', 'AnyHealthcare', 'NoDocbcCost', 'GenHlth', 'PhysHlth',\n",
    "    'DiffWalk'\n",
    "]\n",
    "\n",
    "# Calculate missing values for each field in the main DataFrame\n",
    "missing_values = main_df.select([count(when(col(c).isNull(), c)).alias(c) for c in columns_of_interest])\n",
    "missing_values.show()"
   ]
  },
  {
   "cell_type": "code",
   "execution_count": 45,
   "id": "045ce273",
   "metadata": {},
   "outputs": [
    {
     "name": "stdout",
     "output_type": "stream",
     "text": [
      "+------+\n",
      "|   Sex|\n",
      "+------+\n",
      "|     F|\n",
      "|Female|\n",
      "|female|\n",
      "|     M|\n",
      "|  feee|\n",
      "|  Male|\n",
      "+------+\n",
      "\n"
     ]
    },
    {
     "name": "stderr",
     "output_type": "stream",
     "text": [
      "\r",
      "[Stage 115:>                                                        (0 + 1) / 1]\r",
      "\r",
      "                                                                                \r"
     ]
    }
   ],
   "source": [
    "main_df.select(\"Sex\").distinct().show()"
   ]
  },
  {
   "cell_type": "code",
   "execution_count": 46,
   "id": "dce4b5ef",
   "metadata": {},
   "outputs": [
    {
     "name": "stdout",
     "output_type": "stream",
     "text": [
      "+---+\n",
      "|Sex|\n",
      "+---+\n",
      "|  0|\n",
      "|  1|\n",
      "+---+\n",
      "\n"
     ]
    }
   ],
   "source": [
    "sex_mapping = {\n",
    "    'female': 0, 'F': 0, 'M': 1, 'feee': 0, 'Female': 0, 'Male': 1\n",
    "}\n",
    "\n",
    "# Applying the mapping using when().otherwise() for each condition\n",
    "# Note: PySpark does not have direct replacement using dictionary, thus using multiple when().otherwise()\n",
    "main_df = main_df.withColumn(\"Sex\", \n",
    "    when(col(\"Sex\") == \"female\", 0)\n",
    "    .when(col(\"Sex\") == \"F\", 0)\n",
    "    .when(col(\"Sex\") == \"M\", 1)\n",
    "    .when(col(\"Sex\") == \"feee\", 0)\n",
    "    .when(col(\"Sex\") == \"Female\", 0)\n",
    "    .when(col(\"Sex\") == \"Male\", 1)\n",
    "    .otherwise(col(\"Sex\")))\n",
    "\n",
    "# Display the unique values in the 'Sex' column to confirm changes\n",
    "main_df.select(\"Sex\").distinct().show()"
   ]
  },
  {
   "cell_type": "code",
   "execution_count": 47,
   "id": "5eae5ff0",
   "metadata": {},
   "outputs": [
    {
     "name": "stderr",
     "output_type": "stream",
     "text": [
      "\r",
      "[Stage 121:>                                                        (0 + 1) / 1]\r"
     ]
    },
    {
     "name": "stdout",
     "output_type": "stream",
     "text": [
      "+---+------+\n",
      "|Sex| count|\n",
      "+---+------+\n",
      "|  0|123432|\n",
      "|  1|112946|\n",
      "+---+------+\n",
      "\n"
     ]
    },
    {
     "name": "stderr",
     "output_type": "stream",
     "text": [
      "\r",
      "                                                                                \r"
     ]
    }
   ],
   "source": [
    "# Count the values in the 'Sex' column\n",
    "main_df.groupBy(\"Sex\").count().show()"
   ]
  },
  {
   "cell_type": "markdown",
   "id": "aef7a685",
   "metadata": {},
   "source": [
    "### 3.3. Construct the data"
   ]
  },
  {
   "cell_type": "code",
   "execution_count": 48,
   "id": "291cc01b",
   "metadata": {},
   "outputs": [
    {
     "name": "stderr",
     "output_type": "stream",
     "text": [
      "\r",
      "[Stage 124:>                                                        (0 + 1) / 1]\r"
     ]
    },
    {
     "name": "stdout",
     "output_type": "stream",
     "text": [
      "+---------------+------+\n",
      "|physical_health| count|\n",
      "+---------------+------+\n",
      "|              1| 51500|\n",
      "|              3| 18113|\n",
      "|              2|  9987|\n",
      "|              0|156778|\n",
      "+---------------+------+\n",
      "\n"
     ]
    },
    {
     "name": "stderr",
     "output_type": "stream",
     "text": [
      "\r",
      "                                                                                \r"
     ]
    }
   ],
   "source": [
    "# Define bins and corresponding labels\n",
    "bins = [-1, 0, 10, 20, float('inf')]\n",
    "labels = [0, 1, 2, 3]\n",
    "\n",
    "# Creating a new column 'physical_health' based on bins\n",
    "main_df = main_df.withColumn(\"physical_health\", \n",
    "    when((col(\"PhysHlth\") > bins[0]) & (col(\"PhysHlth\") <= bins[1]), labels[0])\n",
    "    .when((col(\"PhysHlth\") > bins[1]) & (col(\"PhysHlth\") <= bins[2]), labels[1])\n",
    "    .when((col(\"PhysHlth\") > bins[2]) & (col(\"PhysHlth\") <= bins[3]), labels[2])\n",
    "    .when(col(\"PhysHlth\") > bins[3], labels[3])\n",
    "    .otherwise(None))\n",
    "\n",
    "# Count the values in the 'physical_health' column\n",
    "physical_health_distribution = main_df.groupBy(\"physical_health\").count()\n",
    "physical_health_distribution.show()"
   ]
  },
  {
   "cell_type": "code",
   "execution_count": 49,
   "id": "26218ec1",
   "metadata": {},
   "outputs": [
    {
     "name": "stdout",
     "output_type": "stream",
     "text": [
      "+------------+------+--------+---------+-----------------+------+------+--------------------+------------+------+-------+-----------------+-------------+-----------+-------+--------+--------+---+---+---------------+----------------------+------------------------------+\n",
      "|Diabetes_012|HighBP|HighChol|CholCheck|              BMI|Smoker|Stroke|HeartDiseaseorAttack|PhysActivity|Fruits|Veggies|HvyAlcoholConsump|AnyHealthcare|NoDocbcCost|GenHlth|PhysHlth|DiffWalk|Sex|Age|physical_health|Cardiovascular Disease|Diseases of Metabolic Syndrome|\n",
      "+------------+------+--------+---------+-----------------+------+------+--------------------+------------+------+-------+-----------------+-------------+-----------+-------+--------+--------+---+---+---------------+----------------------+------------------------------+\n",
      "|           0|     0|       1|        1|               15|     1|     0|                   0|           0|     1|      1|                0|            1|          0|      5|      20|       0|  0| 11|              2|                     0|                             1|\n",
      "|           2|     1|       0|        1|               28|     0|     0|                   1|           0|     1|      0|                0|            1|          0|      2|       0|       0|  0| 11|              0|                     1|                             1|\n",
      "|           2|     1|       1|        1|               33|     0|     0|                   0|           1|     1|      1|                0|            1|          0|      2|       0|       0|  0|  9|              0|                     0|                             1|\n",
      "|           2|     0|       1|        1|               29|     0|     1|                   1|           1|     1|      1|                0|            1|          0|      5|      30|       1|  1| 12|              3|                     1|                             1|\n",
      "|           0|     0|       0|        1|               24|     1|     0|                   0|           0|     0|      0|                0|            1|          0|      3|       0|       1|  1| 13|              0|                     0|                             0|\n",
      "|           0|     1|       0|        1|28.95375059763316|     1|     0|                   0|           1|     1|      1|                0|            1|          0|      3|      25|       1|  0| 10|              3|                     0|                             1|\n",
      "|           0|     1|       1|        1|               27|     1|     0|                   0|           0|     0|      1|                0|            1|          0|      4|       0|       0|  0| 10|              0|                     0|                             1|\n",
      "|           2|     0|       0|        1|               24|     0|     0|                   1|           0|     0|      1|                0|            1|          0|      4|       0|       0|  1| 12|              0|                     1|                             0|\n",
      "|           0|     1|       1|        1|               30|     0|     0|                   0|           0|     1|      1|                0|            1|          0|      2|       0|       0|  0|  7|              0|                     0|                             1|\n",
      "|           0|     1|       1|        1|               36|     1|     0|                   0|           0|     0|      0|                0|            1|          0|      4|       0|       0|  1| 10|              0|                     0|                             1|\n",
      "|           2|     0|       0|        1|               33|     1|     0|                   0|           1|     0|      1|                0|            1|          0|      4|       0|       0|  1|  6|              0|                     0|                             0|\n",
      "|           2|     1|       1|        1|               30|     0|     0|                   0|           0|     1|      1|                0|            1|          0|      3|       4|       0|  0| 11|              1|                     0|                             1|\n",
      "|           2|     0|       0|        1|               27|     0|     0|                   0|           0|     0|      1|                0|            1|          0|      4|      30|       0|  1| 13|              3|                     0|                             0|\n",
      "|           2|     0|       0|        1|               31|     1|     0|                   0|           0|     1|      1|                0|            1|          0|      3|      10|       0|  0|  8|              1|                     0|                             0|\n",
      "|           0|     1|       1|        1|               27|     1|     0|                   0|           0|     1|      1|                0|            1|          0|      3|       2|       1|  0| 13|              1|                     0|                             1|\n",
      "|           0|     1|       1|        1|               35|     1|     0|                   0|           1|     1|      0|                0|            1|          0|      3|       3|       0|  0| 11|              1|                     0|                             1|\n",
      "|           0|     1|       1|        1|               30|     0|     0|                   0|           1|     1|      0|                0|            1|          0|      2|      10|       0|  0| 10|              1|                     0|                             1|\n",
      "|           0|     0|       0|        1|               31|     0|     0|                   0|           1|     1|      1|                0|            1|          0|      1|       2|       0|  1| 11|              1|                     0|                             0|\n",
      "|           1|     1|       1|        1|               33|     0|     0|                   0|           0|     1|      1|                0|            1|          0|      2|       0|       0|  0| 11|              0|                     0|                             1|\n",
      "|           0|     0|       0|        1|               31|     1|     0|                   0|           1|     1|      1|                0|            1|          0|      4|       0|       0|  0| 10|              0|                     0|                             0|\n",
      "+------------+------+--------+---------+-----------------+------+------+--------------------+------------+------+-------+-----------------+-------------+-----------+-------+--------+--------+---+---+---------------+----------------------+------------------------------+\n",
      "only showing top 20 rows\n",
      "\n"
     ]
    }
   ],
   "source": [
    "# Create new column 'Cardiovascular Disease' based on conditions\n",
    "main_df = main_df.withColumn(\"Cardiovascular Disease\", \n",
    "    when((col(\"HeartDiseaseorAttack\") == 1) | (col(\"Stroke\") == 1), 1).otherwise(0))\n",
    "\n",
    "# Create new column 'Diseases of Metabolic Syndrome' based on conditions\n",
    "main_df = main_df.withColumn(\"Diseases of Metabolic Syndrome\", \n",
    "    when((col(\"HighBP\") == 1) | (col(\"HighChol\") == 1), 1).otherwise(0))\n",
    "\n",
    "# Show the updated DataFrame to see the changes (optional)\n",
    "main_df.show()"
   ]
  },
  {
   "cell_type": "code",
   "execution_count": 50,
   "id": "a5e7c4cf",
   "metadata": {},
   "outputs": [
    {
     "name": "stderr",
     "output_type": "stream",
     "text": [
      "\r",
      "[Stage 128:>                                                        (0 + 1) / 1]\r",
      "\r",
      "                                                                                \r"
     ]
    },
    {
     "name": "stdout",
     "output_type": "stream",
     "text": [
      "+----------------------+------+\n",
      "|Cardiovascular Disease| count|\n",
      "+----------------------+------+\n",
      "|                     1| 26589|\n",
      "|                     0|209789|\n",
      "+----------------------+------+\n",
      "\n",
      "+------------------------------+------+\n",
      "|Diseases of Metabolic Syndrome| count|\n",
      "+------------------------------+------+\n",
      "|                             1|138001|\n",
      "|                             0| 98377|\n",
      "+------------------------------+------+\n",
      "\n"
     ]
    }
   ],
   "source": [
    "# Count the values in the 'Cardiovascular Disease' column\n",
    "cardiovascular_disease_counts = main_df.groupBy(\"Cardiovascular Disease\").count()\n",
    "cardiovascular_disease_counts.show()\n",
    "\n",
    "# Count the values in the 'Diseases of Metabolic Syndrome' column\n",
    "metabolic_syndrome_counts = main_df.groupBy(\"Diseases of Metabolic Syndrome\").count()\n",
    "metabolic_syndrome_counts.show()"
   ]
  },
  {
   "cell_type": "markdown",
   "id": "787bc85d",
   "metadata": {},
   "source": [
    "### 3.4. Integrate various data sources"
   ]
  },
  {
   "cell_type": "code",
   "execution_count": 53,
   "id": "944d652a",
   "metadata": {},
   "outputs": [
    {
     "name": "stdout",
     "output_type": "stream",
     "text": [
      "+------------+------+--------+---------+-----------------+------+------+--------------------+------------+------+-------+-----------------+-------------+-----------+-------+--------+--------+---+---+---------------+----------------------+------------------------------+-----+------+-----+\n",
      "|Diabetes_012|HighBP|HighChol|CholCheck|              BMI|Smoker|Stroke|HeartDiseaseorAttack|PhysActivity|Fruits|Veggies|HvyAlcoholConsump|AnyHealthcare|NoDocbcCost|GenHlth|PhysHlth|DiffWalk|Sex|Age|physical_health|Cardiovascular Disease|Diseases of Metabolic Syndrome|index|Income|index|\n",
      "+------------+------+--------+---------+-----------------+------+------+--------------------+------------+------+-------+-----------------+-------------+-----------+-------+--------+--------+---+---+---------------+----------------------+------------------------------+-----+------+-----+\n",
      "|           0|     0|       1|        1|               15|     1|     0|                   0|           0|     1|      1|                0|            1|          0|      5|      20|       0|  0| 11|              2|                     0|                             1|    0|     5|    0|\n",
      "|           2|     1|       0|        1|               28|     0|     0|                   1|           0|     1|      0|                0|            1|          0|      2|       0|       0|  0| 11|              0|                     1|                             1|    1|     3|    1|\n",
      "|           2|     1|       1|        1|               33|     0|     0|                   0|           1|     1|      1|                0|            1|          0|      2|       0|       0|  0|  9|              0|                     0|                             1|    2|     7|    2|\n",
      "|           2|     0|       1|        1|               29|     0|     1|                   1|           1|     1|      1|                0|            1|          0|      5|      30|       1|  1| 12|              3|                     1|                             1|    3|     4|    3|\n",
      "|           0|     0|       0|        1|               24|     1|     0|                   0|           0|     0|      0|                0|            1|          0|      3|       0|       1|  1| 13|              0|                     0|                             0|    4|     6|    4|\n",
      "|           0|     1|       0|        1|28.95375059763316|     1|     0|                   0|           1|     1|      1|                0|            1|          0|      3|      25|       1|  0| 10|              3|                     0|                             1|    5|     8|    5|\n",
      "|           0|     1|       1|        1|               27|     1|     0|                   0|           0|     0|      1|                0|            1|          0|      4|       0|       0|  0| 10|              0|                     0|                             1|    6|     3|    6|\n",
      "|           2|     0|       0|        1|               24|     0|     0|                   1|           0|     0|      1|                0|            1|          0|      4|       0|       0|  1| 12|              0|                     1|                             0|    7|     7|    7|\n",
      "|           0|     1|       1|        1|               30|     0|     0|                   0|           0|     1|      1|                0|            1|          0|      2|       0|       0|  0|  7|              0|                     0|                             1|    8|     6|    8|\n",
      "|           0|     1|       1|        1|               36|     1|     0|                   0|           0|     0|      0|                0|            1|          0|      4|       0|       0|  1| 10|              0|                     0|                             1|    9|     8|    9|\n",
      "|           2|     0|       0|        1|               33|     1|     0|                   0|           1|     0|      1|                0|            1|          0|      4|       0|       0|  1|  6|              0|                     0|                             0|   10|     2|   10|\n",
      "|           2|     1|       1|        1|               30|     0|     0|                   0|           0|     1|      1|                0|            1|          0|      3|       4|       0|  0| 11|              1|                     0|                             1|   11|     4|   11|\n",
      "|           2|     0|       0|        1|               27|     0|     0|                   0|           0|     0|      1|                0|            1|          0|      4|      30|       0|  1| 13|              3|                     0|                             0|   12|     5|   12|\n",
      "|           2|     0|       0|        1|               31|     1|     0|                   0|           0|     1|      1|                0|            1|          0|      3|      10|       0|  0|  8|              1|                     0|                             0|   13|     8|   13|\n",
      "|           0|     1|       1|        1|               27|     1|     0|                   0|           0|     1|      1|                0|            1|          0|      3|       2|       1|  0| 13|              1|                     0|                             1|   14|     6|   14|\n",
      "|           0|     1|       1|        1|               35|     1|     0|                   0|           1|     1|      0|                0|            1|          0|      3|       3|       0|  0| 11|              1|                     0|                             1|   15|     5|   15|\n",
      "|           0|     1|       1|        1|               30|     0|     0|                   0|           1|     1|      0|                0|            1|          0|      2|      10|       0|  0| 10|              1|                     0|                             1|   16|     8|   16|\n",
      "|           0|     0|       0|        1|               31|     0|     0|                   0|           1|     1|      1|                0|            1|          0|      1|       2|       0|  1| 11|              1|                     0|                             0|   17|     8|   17|\n",
      "|           1|     1|       1|        1|               33|     0|     0|                   0|           0|     1|      1|                0|            1|          0|      2|       0|       0|  0| 11|              0|                     0|                             1|   18|     5|   18|\n",
      "|           0|     0|       0|        1|               31|     1|     0|                   0|           1|     1|      1|                0|            1|          0|      4|       0|       0|  0| 10|              0|                     0|                             0|   19|     6|   19|\n",
      "+------------+------+--------+---------+-----------------+------+------+--------------------+------------+------+-------+-----------------+-------------+-----------+-------+--------+--------+---+---+---------------+----------------------+------------------------------+-----+------+-----+\n",
      "only showing top 20 rows\n",
      "\n"
     ]
    }
   ],
   "source": [
    "main_df = main_df.withColumn(\"index\", monotonically_increasing_id())\n",
    "second_df = second_df.withColumn(\"index\", monotonically_increasing_id())\n",
    "\n",
    "# Perform the inner join on the index column\n",
    "final_df = main_df.join(second_df, main_df.index == second_df.index, how='inner')\n",
    "final_df.show()"
   ]
  },
  {
   "cell_type": "code",
   "execution_count": 55,
   "id": "b06195b1",
   "metadata": {},
   "outputs": [
    {
     "name": "stdout",
     "output_type": "stream",
     "text": [
      "The number of columns in final_df: 25\n",
      "The number of rows in final_df: 236378\n"
     ]
    }
   ],
   "source": [
    "num_columns = len(final_df.columns)\n",
    "print(f\"The number of columns in final_df: {num_columns}\")\n",
    "num_rows = final_df.count()\n",
    "print(f\"The number of rows in final_df: {num_rows}\")"
   ]
  },
  {
   "cell_type": "code",
   "execution_count": 56,
   "id": "f4169585",
   "metadata": {},
   "outputs": [
    {
     "name": "stdout",
     "output_type": "stream",
     "text": [
      "The number of columns in final_df: 23\n"
     ]
    }
   ],
   "source": [
    "final_df = final_df.drop('index')\n",
    "num_columns = len(final_df.columns)\n",
    "print(f\"The number of columns in final_df: {num_columns}\")"
   ]
  },
  {
   "cell_type": "markdown",
   "id": "aaf5a1f1",
   "metadata": {},
   "source": [
    "### 3.5. Format the data as required"
   ]
  },
  {
   "cell_type": "code",
   "execution_count": 57,
   "id": "aa1eda9c",
   "metadata": {},
   "outputs": [
    {
     "name": "stderr",
     "output_type": "stream",
     "text": [
      "[Stage 149:>                                                        (0 + 1) / 1]\r"
     ]
    },
    {
     "name": "stdout",
     "output_type": "stream",
     "text": [
      "+------------+------+--------+---------+---+------+------+--------------------+------------+------+-------+-----------------+-------------+-----------+-------+--------+--------+---+---+---------------+----------------------+------------------------------+------+\n",
      "|Diabetes_012|HighBP|HighChol|CholCheck|BMI|Smoker|Stroke|HeartDiseaseorAttack|PhysActivity|Fruits|Veggies|HvyAlcoholConsump|AnyHealthcare|NoDocbcCost|GenHlth|PhysHlth|DiffWalk|Sex|Age|physical_health|Cardiovascular Disease|Diseases of Metabolic Syndrome|Income|\n",
      "+------------+------+--------+---------+---+------+------+--------------------+------------+------+-------+-----------------+-------------+-----------+-------+--------+--------+---+---+---------------+----------------------+------------------------------+------+\n",
      "|           0|     0|       0|        0|  0|     0|     0|                   0|           0|     0|      0|                0|            0|          0|      0|       0|       0|  0|  0|              0|                     0|                             0|     0|\n",
      "+------------+------+--------+---------+---+------+------+--------------------+------------+------+-------+-----------------+-------------+-----------+-------+--------+--------+---+---+---------------+----------------------+------------------------------+------+\n",
      "\n"
     ]
    },
    {
     "name": "stderr",
     "output_type": "stream",
     "text": [
      "\r",
      "                                                                                \r"
     ]
    }
   ],
   "source": [
    "# Calculate the number of missing values per column\n",
    "final_missing_value = final_df.select([count(when(col(c).isNull(), c)).alias(c) for c in final_df.columns])\n",
    "final_missing_value.show()"
   ]
  },
  {
   "cell_type": "markdown",
   "id": "bbe7ee9f",
   "metadata": {},
   "source": [
    "## 4. "
   ]
  }
 ],
 "metadata": {
  "kernelspec": {
   "display_name": "Python 3 (ipykernel)",
   "language": "python",
   "name": "python3"
  },
  "language_info": {
   "codemirror_mode": {
    "name": "ipython",
    "version": 3
   },
   "file_extension": ".py",
   "mimetype": "text/x-python",
   "name": "python",
   "nbconvert_exporter": "python",
   "pygments_lexer": "ipython3",
   "version": "3.10.4"
  }
 },
 "nbformat": 4,
 "nbformat_minor": 5
}
