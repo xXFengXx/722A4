{
 "cells": [
  {
   "cell_type": "markdown",
   "id": "6e76082e",
   "metadata": {},
   "source": [
    "# Infor722 Iteration 4 "
   ]
  },
  {
   "cell_type": "code",
   "execution_count": 1,
   "id": "e6b7b4dd",
   "metadata": {},
   "outputs": [],
   "source": [
    "import findspark\n",
    "findspark.init('/home/ubuntu/spark-3.2.1-bin-hadoop2.7')\n",
    "import pyspark\n",
    "from pyspark.sql import SparkSession\n",
    "from pyspark.sql.functions import col, count, when, avg, monotonically_increasing_id, row_number, rand, udf\n",
    "from pyspark.sql.window import Window\n",
    "from pyspark.ml.feature import VectorAssembler\n",
    "from pyspark.ml.classification import RandomForestClassifier, NaiveBayes, LinearSVC\n",
    "from pyspark.ml import Pipeline\n",
    "from pyspark.ml.evaluation import MulticlassClassificationEvaluator, BinaryClassificationEvaluator\n",
    "from pyspark.ml.tuning import TrainValidationSplit, ParamGridBuilder\n",
    "from pyspark.sql.types import IntegerType, DoubleType, FloatType\n",
    "from pyspark.ml.linalg import Vectors"
   ]
  },
  {
   "cell_type": "code",
   "execution_count": 2,
   "id": "7df2e212",
   "metadata": {},
   "outputs": [
    {
     "name": "stderr",
     "output_type": "stream",
     "text": [
      "WARNING: An illegal reflective access operation has occurred\n",
      "WARNING: Illegal reflective access by org.apache.spark.unsafe.Platform (file:/home/ubuntu/spark-3.2.1-bin-hadoop2.7/jars/spark-unsafe_2.12-3.2.1.jar) to constructor java.nio.DirectByteBuffer(long,int)\n",
      "WARNING: Please consider reporting this to the maintainers of org.apache.spark.unsafe.Platform\n",
      "WARNING: Use --illegal-access=warn to enable warnings of further illegal reflective access operations\n",
      "WARNING: All illegal access operations will be denied in a future release\n",
      "Using Spark's default log4j profile: org/apache/spark/log4j-defaults.properties\n",
      "Setting default log level to \"WARN\".\n",
      "To adjust logging level use sc.setLogLevel(newLevel). For SparkR, use setLogLevel(newLevel).\n",
      "24/05/23 15:39:50 WARN NativeCodeLoader: Unable to load native-hadoop library for your platform... using builtin-java classes where applicable\n"
     ]
    }
   ],
   "source": [
    "spark = SparkSession.builder.master(\"local[1]\").appName(\"SparkApp\")\\\n",
    "    .config(\"spark.executor.memory\", \"4g\")\\\n",
    "    .config(\"spark.driver.memory\", \"4g\") \\\n",
    "    .getOrCreate()"
   ]
  },
  {
   "cell_type": "markdown",
   "id": "9301e394",
   "metadata": {},
   "source": [
    "## 2. Data Understand"
   ]
  },
  {
   "cell_type": "markdown",
   "id": "95b3ed26",
   "metadata": {},
   "source": [
    "### 2.1. Load Dataset"
   ]
  },
  {
   "cell_type": "code",
   "execution_count": 3,
   "id": "fde90e21",
   "metadata": {},
   "outputs": [
    {
     "name": "stderr",
     "output_type": "stream",
     "text": [
      "                                                                                \r"
     ]
    }
   ],
   "source": [
    "df_main = spark.read.csv('Datasets/diabetes_012_health_indicators_BRFSS2021.csv', header=True)\n",
    "df_income = spark.read.csv('Datasets/diabetes_Income.csv', header=True)"
   ]
  },
  {
   "cell_type": "markdown",
   "id": "d578da1e",
   "metadata": {},
   "source": [
    "### 2.3. Explore Data"
   ]
  },
  {
   "cell_type": "code",
   "execution_count": 4,
   "id": "9ebbec3b",
   "metadata": {},
   "outputs": [
    {
     "name": "stderr",
     "output_type": "stream",
     "text": [
      "                                                                                \r"
     ]
    },
    {
     "name": "stdout",
     "output_type": "stream",
     "text": [
      "+-------+-------------------+------------------+-------------------+-------------------+------------------+-------------------+-------------------+--------------------+------------------+-------------------+-------------------+-------------------+-------------------+-------------------+------------------+-----------------+-----------------+------------------+------+-----------------+------------------+\n",
      "|summary|       Diabetes_012|            HighBP|           HighChol|          CholCheck|               BMI|             Smoker|             Stroke|HeartDiseaseorAttack|      PhysActivity|             Fruits|            Veggies|  HvyAlcoholConsump|      AnyHealthcare|        NoDocbcCost|           GenHlth|         MentHlth|         PhysHlth|          DiffWalk|   Sex|              Age|         Education|\n",
      "+-------+-------------------+------------------+-------------------+-------------------+------------------+-------------------+-------------------+--------------------+------------------+-------------------+-------------------+-------------------+-------------------+-------------------+------------------+-----------------+-----------------+------------------+------+-----------------+------------------+\n",
      "|  count|             236378|            236378|             236377|             236377|            236364|             236369|             236371|              236368|            236366|             236369|             236371|             236369|             236371|             236374|            236373|           236375|           236372|            236374|236378|           236377|            236376|\n",
      "|   mean|0.30779091116770596|0.4185584106811971|0.40206111423700275| 0.9633466877065028|29.808549525308422|0.41199988154114964|0.03890071117015201| 0.08654724835849184|0.7792364384048467| 0.6212616713697651| 0.8277665195815054|0.06208512960667431| 0.9625757812929674|0.06373797456573058|2.4807148024520567|3.949571655208884|3.755072512818777| 0.153950942150998|  null|7.864969942084044|5.1392823298473616|\n",
      "| stddev|  0.705037185177366|0.4933237244464948| 0.4903151962900655|0.18790954305572985| 411.3712113946665|0.49219610325707497| 0.1933587443432697| 0.28117104514241414|0.4147622683771524|0.48507381141394573|0.37758404601119716|0.24131061444523627|0.18979936502747566|0.24428609789962608|1.0291253354170522|9.479330795436876|8.336330976770407|0.3609024807311405|  null|3.276332690930958|0.9502826718634383|\n",
      "|    min|                  0|                 0|                  0|                  0|               100|                  0|                  0|                   0|                 0|                  0|                  0|                  0|                  0|                  0|                 1|               -1|                0|                 0|     F|                1|                 1|\n",
      "|    max|                  2|                 1|                  1|                  1|                99|                  1|                  1|                   1|                 1|                  1|                  1|                  1|                  1|                  1|                 5|                9|                9|                 1|female|                9|                 6|\n",
      "+-------+-------------------+------------------+-------------------+-------------------+------------------+-------------------+-------------------+--------------------+------------------+-------------------+-------------------+-------------------+-------------------+-------------------+------------------+-----------------+-----------------+------------------+------+-----------------+------------------+\n",
      "\n"
     ]
    }
   ],
   "source": [
    "df_desc = df_main.describe()\n",
    "df_desc.show()"
   ]
  },
  {
   "cell_type": "code",
   "execution_count": 5,
   "id": "4587d18b",
   "metadata": {},
   "outputs": [
    {
     "name": "stdout",
     "output_type": "stream",
     "text": [
      "root\n",
      " |-- Diabetes_012: string (nullable = true)\n",
      " |-- HighBP: string (nullable = true)\n",
      " |-- HighChol: string (nullable = true)\n",
      " |-- CholCheck: string (nullable = true)\n",
      " |-- BMI: string (nullable = true)\n",
      " |-- Smoker: string (nullable = true)\n",
      " |-- Stroke: string (nullable = true)\n",
      " |-- HeartDiseaseorAttack: string (nullable = true)\n",
      " |-- PhysActivity: string (nullable = true)\n",
      " |-- Fruits: string (nullable = true)\n",
      " |-- Veggies: string (nullable = true)\n",
      " |-- HvyAlcoholConsump: string (nullable = true)\n",
      " |-- AnyHealthcare: string (nullable = true)\n",
      " |-- NoDocbcCost: string (nullable = true)\n",
      " |-- GenHlth: string (nullable = true)\n",
      " |-- MentHlth: string (nullable = true)\n",
      " |-- PhysHlth: string (nullable = true)\n",
      " |-- DiffWalk: string (nullable = true)\n",
      " |-- Sex: string (nullable = true)\n",
      " |-- Age: string (nullable = true)\n",
      " |-- Education: string (nullable = true)\n",
      "\n"
     ]
    }
   ],
   "source": [
    "df_main.printSchema()"
   ]
  },
  {
   "cell_type": "code",
   "execution_count": 6,
   "id": "4a225b8e",
   "metadata": {},
   "outputs": [
    {
     "name": "stderr",
     "output_type": "stream",
     "text": [
      "\r",
      "[Stage 5:>                                                          (0 + 1) / 1]\r"
     ]
    },
    {
     "name": "stdout",
     "output_type": "stream",
     "text": [
      "+------------+------+\n",
      "|Diabetes_012| count|\n",
      "+------------+------+\n",
      "|           0|197191|\n",
      "|           1|  5619|\n",
      "|           2| 33568|\n",
      "+------------+------+\n",
      "\n"
     ]
    },
    {
     "name": "stderr",
     "output_type": "stream",
     "text": [
      "\r",
      "                                                                                \r"
     ]
    }
   ],
   "source": [
    "diabetes_counts = df_main.groupBy(\"Diabetes_012\").count()\n",
    "diabetes_counts.show()"
   ]
  },
  {
   "cell_type": "markdown",
   "id": "e520be79",
   "metadata": {},
   "source": [
    "### 2.4. Verify the data quality"
   ]
  },
  {
   "cell_type": "code",
   "execution_count": 7,
   "id": "2f169fac",
   "metadata": {},
   "outputs": [
    {
     "name": "stdout",
     "output_type": "stream",
     "text": [
      "root\n",
      " |-- Diabetes_012: string (nullable = true)\n",
      " |-- HighBP: string (nullable = true)\n",
      " |-- HighChol: string (nullable = true)\n",
      " |-- CholCheck: string (nullable = true)\n",
      " |-- BMI: string (nullable = true)\n",
      " |-- Smoker: string (nullable = true)\n",
      " |-- Stroke: string (nullable = true)\n",
      " |-- HeartDiseaseorAttack: string (nullable = true)\n",
      " |-- PhysActivity: string (nullable = true)\n",
      " |-- Fruits: string (nullable = true)\n",
      " |-- Veggies: string (nullable = true)\n",
      " |-- HvyAlcoholConsump: string (nullable = true)\n",
      " |-- AnyHealthcare: string (nullable = true)\n",
      " |-- NoDocbcCost: string (nullable = true)\n",
      " |-- GenHlth: string (nullable = true)\n",
      " |-- MentHlth: string (nullable = true)\n",
      " |-- PhysHlth: string (nullable = true)\n",
      " |-- DiffWalk: string (nullable = true)\n",
      " |-- Sex: string (nullable = true)\n",
      " |-- Age: string (nullable = true)\n",
      " |-- Education: string (nullable = true)\n",
      "\n"
     ]
    }
   ],
   "source": [
    "df_main.printSchema()"
   ]
  },
  {
   "cell_type": "code",
   "execution_count": 8,
   "id": "b82ad982",
   "metadata": {},
   "outputs": [
    {
     "name": "stderr",
     "output_type": "stream",
     "text": [
      "\r",
      "[Stage 8:>                                                          (0 + 1) / 1]\r"
     ]
    },
    {
     "name": "stdout",
     "output_type": "stream",
     "text": [
      "+------------+------+--------+---------+---+------+------+--------------------+------------+------+-------+-----------------+-------------+-----------+-------+--------+--------+--------+---+---+---------+\n",
      "|Diabetes_012|HighBP|HighChol|CholCheck|BMI|Smoker|Stroke|HeartDiseaseorAttack|PhysActivity|Fruits|Veggies|HvyAlcoholConsump|AnyHealthcare|NoDocbcCost|GenHlth|MentHlth|PhysHlth|DiffWalk|Sex|Age|Education|\n",
      "+------------+------+--------+---------+---+------+------+--------------------+------------+------+-------+-----------------+-------------+-----------+-------+--------+--------+--------+---+---+---------+\n",
      "|           0|     0|       1|        1| 14|     9|     7|                  10|          12|     9|      7|                9|            7|          4|      5|       3|       6|       4|  0|  1|        2|\n",
      "+------------+------+--------+---------+---+------+------+--------------------+------------+------+-------+-----------------+-------------+-----------+-------+--------+--------+--------+---+---+---------+\n",
      "\n"
     ]
    },
    {
     "name": "stderr",
     "output_type": "stream",
     "text": [
      "\r",
      "                                                                                \r"
     ]
    }
   ],
   "source": [
    "# Count the number of missing values per column\n",
    "missing_values = df_main.select([count(when(col(c).isNull(), c)).alias(c) for c in df_main.columns])\n",
    "missing_values.show()"
   ]
  },
  {
   "cell_type": "code",
   "execution_count": 9,
   "id": "375de175",
   "metadata": {},
   "outputs": [
    {
     "name": "stderr",
     "output_type": "stream",
     "text": [
      "\r",
      "[Stage 14:>                                                         (0 + 1) / 1]\r"
     ]
    },
    {
     "name": "stdout",
     "output_type": "stream",
     "text": [
      "+------------+------+--------------------+--------------------+--------------------+--------------------+--------------------+--------------------+--------------------+--------------------+--------------------+--------------------+--------------------+--------------------+--------------------+--------------------+--------------------+--------------------+---+--------------------+--------------------+\n",
      "|Diabetes_012|HighBP|            HighChol|           CholCheck|                 BMI|              Smoker|              Stroke|HeartDiseaseorAttack|        PhysActivity|              Fruits|             Veggies|   HvyAlcoholConsump|       AnyHealthcare|         NoDocbcCost|             GenHlth|            MentHlth|            PhysHlth|            DiffWalk|Sex|                 Age|           Education|\n",
      "+------------+------+--------------------+--------------------+--------------------+--------------------+--------------------+--------------------+--------------------+--------------------+--------------------+--------------------+--------------------+--------------------+--------------------+--------------------+--------------------+--------------------+---+--------------------+--------------------+\n",
      "|         0.0|   0.0|4.230512145800371E-4|4.230512145800371E-4|0.005922717004120519|0.003807460931220...|0.002961358502060...|0.004230512145800...|0.005076614574960445|0.003807460931220...|0.002961358502060...|0.003807460931220...|0.002961358502060...|0.001692204858320...|0.002115256072900...|0.001269153643740...|0.002538307287480...|0.001692204858320...|0.0|4.230512145800371E-4|8.461024291600742E-4|\n",
      "+------------+------+--------------------+--------------------+--------------------+--------------------+--------------------+--------------------+--------------------+--------------------+--------------------+--------------------+--------------------+--------------------+--------------------+--------------------+--------------------+--------------------+---+--------------------+--------------------+\n",
      "\n"
     ]
    },
    {
     "name": "stderr",
     "output_type": "stream",
     "text": [
      "\r",
      "                                                                                \r"
     ]
    }
   ],
   "source": [
    "# Percentage of missing values in the dataset\n",
    "total_rows = df_main.count()\n",
    "missing_percentage = df_main.select([(count(when(col(c).isNull(), c)) / total_rows * 100).alias(c) for c in df_main.columns])\n",
    "missing_percentage.show()"
   ]
  },
  {
   "cell_type": "code",
   "execution_count": 10,
   "id": "509812ee",
   "metadata": {},
   "outputs": [
    {
     "name": "stderr",
     "output_type": "stream",
     "text": [
      "\r",
      "[Stage 17:>                                                         (0 + 1) / 1]\r"
     ]
    },
    {
     "name": "stdout",
     "output_type": "stream",
     "text": [
      "+------+------+\n",
      "|   Sex| count|\n",
      "+------+------+\n",
      "|     F|     3|\n",
      "|Female|123426|\n",
      "|female|     2|\n",
      "|     M|     3|\n",
      "|  feee|     1|\n",
      "|  Male|112943|\n",
      "+------+------+\n",
      "\n"
     ]
    },
    {
     "name": "stderr",
     "output_type": "stream",
     "text": [
      "\r",
      "                                                                                \r"
     ]
    }
   ],
   "source": [
    "# Value counts for the 'Sex' column\n",
    "sex_distribution = df_main.groupBy(\"Sex\").count()\n",
    "sex_distribution.show()"
   ]
  },
  {
   "cell_type": "markdown",
   "id": "5db65a9d",
   "metadata": {},
   "source": [
    "## 3. Data preparation"
   ]
  },
  {
   "cell_type": "markdown",
   "id": "9952b482",
   "metadata": {},
   "source": [
    "### 3.1. Selecte data"
   ]
  },
  {
   "cell_type": "code",
   "execution_count": 11,
   "id": "fa9b3f7f",
   "metadata": {},
   "outputs": [
    {
     "name": "stdout",
     "output_type": "stream",
     "text": [
      "+------------+------+--------+---------+---+------+------+--------------------+------------+------+-------+-----------------+-------------+-----------+-------+--------+--------+------+---+\n",
      "|Diabetes_012|HighBP|HighChol|CholCheck|BMI|Smoker|Stroke|HeartDiseaseorAttack|PhysActivity|Fruits|Veggies|HvyAlcoholConsump|AnyHealthcare|NoDocbcCost|GenHlth|PhysHlth|DiffWalk|   Sex|Age|\n",
      "+------------+------+--------+---------+---+------+------+--------------------+------------+------+-------+-----------------+-------------+-----------+-------+--------+--------+------+---+\n",
      "|           0|     0|       1|        1| 15|     1|     0|                   0|           0|     1|      1|                0|            1|          0|      5|      20|       0|Female| 11|\n",
      "|           2|     1|       0|        1| 28|     0|     0|                   1|           0|     1|      0|                0|            1|          0|      2|       0|       0|Female| 11|\n",
      "|           2|     1|       1|        1| 33|     0|     0|                   0|           1|     1|      1|                0|            1|          0|      2|       0|       0|Female|  9|\n",
      "|           2|     0|       1|        1| 29|     0|     1|                   1|           1|     1|      1|                0|            1|          0|      5|      30|       1|  Male| 12|\n",
      "|           0|     0|       0|        1| 24|     1|     0|                   0|           0|     0|      0|                0|            1|          0|      3|       0|       1|  Male| 13|\n",
      "|           0|     1|       0|        1|250|     1|     0|                   0|           1|     1|      1|                0|            1|          0|      3|      25|       1|Female| 10|\n",
      "|           0|     1|       1|        1| 27|     1|     0|                   0|           0|     0|      1|                0|            1|          0|      4|       0|       0|Female| 10|\n",
      "|           2|     0|       0|        1| 24|     0|     0|                   1|           0|     0|      1|                0|            1|          0|      4|       0|       0|  Male| 12|\n",
      "|           0|     1|       1|        1| 30|     0|     0|                   0|           0|     1|      1|                0|            1|          0|      2|       0|       0|female|  7|\n",
      "|           0|     1|       1|        1| 36|     1|     0|                   0|           0|     0|      0|                0|            1|          0|      4|       0|       0|  Male| 10|\n",
      "|           2|     0|       0|        1| 33|     1|     0|                   0|           1|     0|      1|                0|            1|          0|      4|       0|       0|  Male|  6|\n",
      "|           2|     1|       1|        1| 30|     0|     0|                   0|           0|     1|      1|                0|            1|          0|      3|       4|       0|Female| 11|\n",
      "|           2|     0|       0|        1| 27|     0|     0|                   0|           0|     0|      1|                0|            1|          0|      4|      30|       0|  Male| 13|\n",
      "|           2|     0|       0|        1| 31|     1|     0|                   0|           0|     1|      1|                0|            1|          0|      3|      10|       0|Female|  8|\n",
      "|           0|     1|       1|        1| 27|     1|     0|                   0|           0|     1|      1|                0|            1|          0|      3|       2|       1|Female| 13|\n",
      "|           0|     1|       1|        1| 35|     1|     0|                   0|           1|     1|      0|                0|            1|          0|      3|       3|       0|Female| 11|\n",
      "|           0|     1|       1|        1| 30|     0|     0|                   0|           1|     1|      0|                0|            1|          0|      2|      10|       0|Female| 10|\n",
      "|           0|     0|       0|        1| 31|     0|     0|                   0|           1|     1|      1|                0|            1|          0|      1|       2|       0|  Male| 11|\n",
      "|           1|     1|       1|        1| 33|     0|     0|                   0|           0|     1|      1|                0|            1|          0|      2|       0|       0|Female| 11|\n",
      "|           0|     0|       0|        1| 31|     1|     0|                   0|           1|     1|      1|                0|            1|          0|      4|       0|       0|Female| 10|\n",
      "+------------+------+--------+---------+---+------+------+--------------------+------------+------+-------+-----------------+-------------+-----------+-------+--------+--------+------+---+\n",
      "only showing top 20 rows\n",
      "\n",
      "+------------+------+--------+---------+---+------+------+--------------------+------------+------+-------+-----------------+-------------+-----------+-------+--------+--------+------+---+\n",
      "|Diabetes_012|HighBP|HighChol|CholCheck|BMI|Smoker|Stroke|HeartDiseaseorAttack|PhysActivity|Fruits|Veggies|HvyAlcoholConsump|AnyHealthcare|NoDocbcCost|GenHlth|PhysHlth|DiffWalk|   Sex|Age|\n",
      "+------------+------+--------+---------+---+------+------+--------------------+------------+------+-------+-----------------+-------------+-----------+-------+--------+--------+------+---+\n",
      "|           0|     0|       1|        1| 15|     1|     0|                   0|           0|     1|      1|                0|            1|          0|      5|      20|       0|Female| 11|\n",
      "|           2|     1|       0|        1| 28|     0|     0|                   1|           0|     1|      0|                0|            1|          0|      2|       0|       0|Female| 11|\n",
      "|           2|     1|       1|        1| 33|     0|     0|                   0|           1|     1|      1|                0|            1|          0|      2|       0|       0|Female|  9|\n",
      "|           2|     0|       1|        1| 29|     0|     1|                   1|           1|     1|      1|                0|            1|          0|      5|      30|       1|  Male| 12|\n",
      "|           0|     0|       0|        1| 24|     1|     0|                   0|           0|     0|      0|                0|            1|          0|      3|       0|       1|  Male| 13|\n",
      "+------------+------+--------+---------+---+------+------+--------------------+------------+------+-------+-----------------+-------------+-----------+-------+--------+--------+------+---+\n",
      "only showing top 5 rows\n",
      "\n"
     ]
    }
   ],
   "source": [
    "main_df = df_main.drop('Education', 'MentHlth')\n",
    "\n",
    "# Show the DataFrame to confirm columns are dropped\n",
    "main_df.show()\n",
    "\n",
    "# Display the first few rows of the DataFrame\n",
    "main_df.show(5)"
   ]
  },
  {
   "cell_type": "code",
   "execution_count": 12,
   "id": "633b54fb",
   "metadata": {},
   "outputs": [
    {
     "name": "stdout",
     "output_type": "stream",
     "text": [
      "The number of columns in the DataFrame is: 19\n"
     ]
    }
   ],
   "source": [
    "num_columns = len(main_df.columns)\n",
    "print(f\"The number of columns in the DataFrame is: {num_columns}\")"
   ]
  },
  {
   "cell_type": "markdown",
   "id": "ad58c58b",
   "metadata": {},
   "source": [
    "### 3.2. Clean Data"
   ]
  },
  {
   "cell_type": "code",
   "execution_count": 13,
   "id": "64e9d260",
   "metadata": {},
   "outputs": [],
   "source": [
    "# Clean 'main_df' DataFrame\n",
    "main_df = main_df.withColumn(\"Age\", when((col(\"Age\") < 1) | (col(\"Age\") > 13), None).otherwise(col(\"Age\")))\n",
    "main_df = main_df.withColumn(\"Diabetes_012\", when(~col(\"Diabetes_012\").isin([0, 1, 2]), None).otherwise(col(\"Diabetes_012\")))\n",
    "main_df = main_df.withColumn(\"HighBP\", when(~col(\"HighBP\").isin([0, 1]), None).otherwise(col(\"HighBP\")))\n",
    "main_df = main_df.withColumn(\"HighChol\", when(~col(\"HighChol\").isin([0, 1]), None).otherwise(col(\"HighChol\")))\n",
    "main_df = main_df.withColumn(\"CholCheck\", when(~col(\"CholCheck\").isin([0, 1]), None).otherwise(col(\"CholCheck\")))\n",
    "main_df = main_df.withColumn(\"BMI\", when((col(\"BMI\") < 12) | (col(\"BMI\") > 99), None).otherwise(col(\"BMI\")))\n",
    "main_df = main_df.withColumn(\"Smoker\", when(~col(\"Smoker\").isin([0, 1]), None).otherwise(col(\"Smoker\")))\n",
    "main_df = main_df.withColumn(\"Stroke\", when(~col(\"Stroke\").isin([0, 1]), None).otherwise(col(\"Stroke\")))\n",
    "main_df = main_df.withColumn(\"HeartDiseaseorAttack\", when(~col(\"HeartDiseaseorAttack\").isin([0, 1]), None).otherwise(col(\"HeartDiseaseorAttack\")))\n",
    "main_df = main_df.withColumn(\"PhysActivity\", when(~col(\"PhysActivity\").isin([0, 1]), None).otherwise(col(\"PhysActivity\")))\n",
    "main_df = main_df.withColumn(\"Fruits\", when(~col(\"Fruits\").isin([0, 1]), None).otherwise(col(\"Fruits\")))\n",
    "main_df = main_df.withColumn(\"Veggies\", when(~col(\"Veggies\").isin([0, 1]), None).otherwise(col(\"Veggies\")))\n",
    "main_df = main_df.withColumn(\"HvyAlcoholConsump\", when(~col(\"HvyAlcoholConsump\").isin([0, 1]), None).otherwise(col(\"HvyAlcoholConsump\")))\n",
    "main_df = main_df.withColumn(\"AnyHealthcare\", when(~col(\"AnyHealthcare\").isin([0, 1]), None).otherwise(col(\"AnyHealthcare\")))\n",
    "main_df = main_df.withColumn(\"NoDocbcCost\", when(~col(\"NoDocbcCost\").isin([0, 1]), None).otherwise(col(\"NoDocbcCost\")))\n",
    "main_df = main_df.withColumn(\"GenHlth\", when(~col(\"GenHlth\").isin([1, 2, 3, 4, 5]), None).otherwise(col(\"GenHlth\")))\n",
    "main_df = main_df.withColumn(\"PhysHlth\", when((col(\"PhysHlth\") < 0) | (col(\"PhysHlth\") > 30), None).otherwise(col(\"PhysHlth\")))\n",
    "main_df = main_df.withColumn(\"DiffWalk\", when(~col(\"DiffWalk\").isin([0, 1]), None).otherwise(col(\"DiffWalk\")))\n",
    "\n",
    "# Clean 'second_df' DataFrame\n",
    "second_df = df_income.withColumn(\"Income\", when((col(\"Income\") < 1) | (col(\"Income\") > 11), None).otherwise(col(\"Income\")))"
   ]
  },
  {
   "cell_type": "code",
   "execution_count": 14,
   "id": "cbfefe4b",
   "metadata": {},
   "outputs": [
    {
     "name": "stderr",
     "output_type": "stream",
     "text": [
      "\r",
      "[Stage 22:>                                                         (0 + 1) / 1]\r"
     ]
    },
    {
     "name": "stdout",
     "output_type": "stream",
     "text": [
      "+---+------------+------+--------+---------+---+------+------+--------------------+------------+------+-------+-----------------+-------------+-----------+-------+--------+--------+\n",
      "|Age|Diabetes_012|HighBP|HighChol|CholCheck|BMI|Smoker|Stroke|HeartDiseaseorAttack|PhysActivity|Fruits|Veggies|HvyAlcoholConsump|AnyHealthcare|NoDocbcCost|GenHlth|PhysHlth|DiffWalk|\n",
      "+---+------------+------+--------+---------+---+------+------+--------------------+------------+------+-------+-----------------+-------------+-----------+-------+--------+--------+\n",
      "|  2|           0|     0|       1|        1| 29|     9|     7|                  10|          12|     9|      7|                9|            7|          4|      5|       9|       4|\n",
      "+---+------------+------+--------+---------+---+------+------+--------------------+------------+------+-------+-----------------+-------------+-----------+-------+--------+--------+\n",
      "\n"
     ]
    },
    {
     "name": "stderr",
     "output_type": "stream",
     "text": [
      "\r",
      "                                                                                \r"
     ]
    }
   ],
   "source": [
    "columns_of_interest = [\n",
    "    'Age', 'Diabetes_012', 'HighBP', 'HighChol', 'CholCheck', 'BMI', 'Smoker',\n",
    "    'Stroke', 'HeartDiseaseorAttack', 'PhysActivity', 'Fruits', 'Veggies',\n",
    "    'HvyAlcoholConsump', 'AnyHealthcare', 'NoDocbcCost', 'GenHlth', 'PhysHlth',\n",
    "    'DiffWalk'\n",
    "]\n",
    "\n",
    "# Calculate missing values for each field in the main DataFrame\n",
    "missing_values = main_df.select([count(when(col(c).isNull(), c)).alias(c) for c in columns_of_interest])\n",
    "missing_values.show()"
   ]
  },
  {
   "cell_type": "code",
   "execution_count": 15,
   "id": "cc9e1ca9",
   "metadata": {},
   "outputs": [
    {
     "name": "stdout",
     "output_type": "stream",
     "text": [
      "+------+\n",
      "|Income|\n",
      "+------+\n",
      "|     0|\n",
      "+------+\n",
      "\n"
     ]
    }
   ],
   "source": [
    "# Calculate missing values for the 'Income' field in the second DataFrame\n",
    "missing_values_second = second_df.select([count(when(col('Income').isNull(), 'Income')).alias('Income')])\n",
    "missing_values_second.show()"
   ]
  },
  {
   "cell_type": "code",
   "execution_count": 16,
   "id": "46c26d76",
   "metadata": {},
   "outputs": [],
   "source": [
    "binary_columns = [\n",
    "    'HighBP', 'HighChol', 'CholCheck', 'Smoker', 'Stroke', 'HeartDiseaseorAttack',\n",
    "    'PhysActivity', 'Fruits', 'Veggies', 'HvyAlcoholConsump', 'AnyHealthcare',\n",
    "    'NoDocbcCost', 'DiffWalk'\n",
    "]\n",
    "\n",
    "# Replace NaN in binary columns with 1\n",
    "for col_name in binary_columns:\n",
    "    main_df = main_df.na.fill({col_name: 1})"
   ]
  },
  {
   "cell_type": "code",
   "execution_count": 17,
   "id": "34b18a14",
   "metadata": {},
   "outputs": [
    {
     "name": "stderr",
     "output_type": "stream",
     "text": [
      "                                                                                \r"
     ]
    }
   ],
   "source": [
    "# Define non-binary columns\n",
    "non_binary_columns = [\n",
    "    'Age', 'Diabetes_012', 'BMI', 'GenHlth', 'PhysHlth'\n",
    "]\n",
    "\n",
    "# Replace NaN in non-binary columns with the column's mean\n",
    "for col_name in non_binary_columns:\n",
    "    mean_value = main_df.select(avg(col_name)).first()[0]\n",
    "    main_df = main_df.na.fill({col_name: mean_value})"
   ]
  },
  {
   "cell_type": "code",
   "execution_count": 18,
   "id": "df7ac7e6",
   "metadata": {},
   "outputs": [
    {
     "name": "stdout",
     "output_type": "stream",
     "text": [
      "+---+------------+------+--------+---------+---+------+------+--------------------+------------+------+-------+-----------------+-------------+-----------+-------+--------+--------+\n",
      "|Age|Diabetes_012|HighBP|HighChol|CholCheck|BMI|Smoker|Stroke|HeartDiseaseorAttack|PhysActivity|Fruits|Veggies|HvyAlcoholConsump|AnyHealthcare|NoDocbcCost|GenHlth|PhysHlth|DiffWalk|\n",
      "+---+------------+------+--------+---------+---+------+------+--------------------+------------+------+-------+-----------------+-------------+-----------+-------+--------+--------+\n",
      "|  0|           0|     0|       0|        0|  0|     0|     0|                   0|           0|     0|      0|                0|            0|          0|      0|       0|       0|\n",
      "+---+------------+------+--------+---------+---+------+------+--------------------+------------+------+-------+-----------------+-------------+-----------+-------+--------+--------+\n",
      "\n"
     ]
    }
   ],
   "source": [
    "columns_of_interest = [\n",
    "    'Age', 'Diabetes_012', 'HighBP', 'HighChol', 'CholCheck', 'BMI', 'Smoker',\n",
    "    'Stroke', 'HeartDiseaseorAttack', 'PhysActivity', 'Fruits', 'Veggies',\n",
    "    'HvyAlcoholConsump', 'AnyHealthcare', 'NoDocbcCost', 'GenHlth', 'PhysHlth',\n",
    "    'DiffWalk'\n",
    "]\n",
    "\n",
    "# Calculate missing values for each field in the main DataFrame\n",
    "missing_values = main_df.select([count(when(col(c).isNull(), c)).alias(c) for c in columns_of_interest])\n",
    "missing_values.show()"
   ]
  },
  {
   "cell_type": "code",
   "execution_count": 19,
   "id": "045ce273",
   "metadata": {},
   "outputs": [
    {
     "name": "stdout",
     "output_type": "stream",
     "text": [
      "+------+\n",
      "|   Sex|\n",
      "+------+\n",
      "|     F|\n",
      "|Female|\n",
      "|female|\n",
      "|     M|\n",
      "|  feee|\n",
      "|  Male|\n",
      "+------+\n",
      "\n"
     ]
    },
    {
     "name": "stderr",
     "output_type": "stream",
     "text": [
      "\r",
      "[Stage 46:>                                                         (0 + 1) / 1]\r",
      "\r",
      "                                                                                \r"
     ]
    }
   ],
   "source": [
    "main_df.select(\"Sex\").distinct().show()"
   ]
  },
  {
   "cell_type": "code",
   "execution_count": 20,
   "id": "dce4b5ef",
   "metadata": {},
   "outputs": [
    {
     "name": "stdout",
     "output_type": "stream",
     "text": [
      "+---+\n",
      "|Sex|\n",
      "+---+\n",
      "|  0|\n",
      "|  1|\n",
      "+---+\n",
      "\n"
     ]
    },
    {
     "name": "stderr",
     "output_type": "stream",
     "text": [
      "\r",
      "[Stage 49:>                                                         (0 + 1) / 1]\r",
      "\r",
      "                                                                                \r"
     ]
    }
   ],
   "source": [
    "sex_mapping = {\n",
    "    'female': 0, 'F': 0, 'M': 1, 'feee': 0, 'Female': 0, 'Male': 1\n",
    "}\n",
    "\n",
    "# Applying the mapping using when().otherwise() for each condition\n",
    "# Note: PySpark does not have direct replacement using dictionary, thus using multiple when().otherwise()\n",
    "main_df = main_df.withColumn(\"Sex\", \n",
    "    when(col(\"Sex\") == \"female\", 0)\n",
    "    .when(col(\"Sex\") == \"F\", 0)\n",
    "    .when(col(\"Sex\") == \"M\", 1)\n",
    "    .when(col(\"Sex\") == \"feee\", 0)\n",
    "    .when(col(\"Sex\") == \"Female\", 0)\n",
    "    .when(col(\"Sex\") == \"Male\", 1)\n",
    "    .otherwise(col(\"Sex\")))\n",
    "\n",
    "# Display the unique values in the 'Sex' column to confirm changes\n",
    "main_df.select(\"Sex\").distinct().show()"
   ]
  },
  {
   "cell_type": "code",
   "execution_count": 21,
   "id": "5eae5ff0",
   "metadata": {},
   "outputs": [
    {
     "name": "stderr",
     "output_type": "stream",
     "text": [
      "\r",
      "[Stage 52:>                                                         (0 + 1) / 1]\r"
     ]
    },
    {
     "name": "stdout",
     "output_type": "stream",
     "text": [
      "+---+------+\n",
      "|Sex| count|\n",
      "+---+------+\n",
      "|  0|123432|\n",
      "|  1|112946|\n",
      "+---+------+\n",
      "\n"
     ]
    },
    {
     "name": "stderr",
     "output_type": "stream",
     "text": [
      "\r",
      "                                                                                \r"
     ]
    }
   ],
   "source": [
    "# Count the values in the 'Sex' column\n",
    "main_df.groupBy(\"Sex\").count().show()"
   ]
  },
  {
   "cell_type": "markdown",
   "id": "aef7a685",
   "metadata": {},
   "source": [
    "### 3.3. Construct the data"
   ]
  },
  {
   "cell_type": "code",
   "execution_count": 22,
   "id": "291cc01b",
   "metadata": {},
   "outputs": [
    {
     "name": "stderr",
     "output_type": "stream",
     "text": [
      "\r",
      "[Stage 55:>                                                         (0 + 1) / 1]\r"
     ]
    },
    {
     "name": "stdout",
     "output_type": "stream",
     "text": [
      "+---------------+------+\n",
      "|physical_health| count|\n",
      "+---------------+------+\n",
      "|              1| 51500|\n",
      "|              3| 18113|\n",
      "|              2|  9987|\n",
      "|              0|156778|\n",
      "+---------------+------+\n",
      "\n"
     ]
    },
    {
     "name": "stderr",
     "output_type": "stream",
     "text": [
      "\r",
      "                                                                                \r"
     ]
    }
   ],
   "source": [
    "# Define bins and corresponding labels\n",
    "bins = [-1, 0, 10, 20, float('inf')]\n",
    "labels = [0, 1, 2, 3]\n",
    "\n",
    "# Creating a new column 'physical_health' based on bins\n",
    "main_df = main_df.withColumn(\"physical_health\", \n",
    "    when((col(\"PhysHlth\") > bins[0]) & (col(\"PhysHlth\") <= bins[1]), labels[0])\n",
    "    .when((col(\"PhysHlth\") > bins[1]) & (col(\"PhysHlth\") <= bins[2]), labels[1])\n",
    "    .when((col(\"PhysHlth\") > bins[2]) & (col(\"PhysHlth\") <= bins[3]), labels[2])\n",
    "    .when(col(\"PhysHlth\") > bins[3], labels[3])\n",
    "    .otherwise(None))\n",
    "\n",
    "# Count the values in the 'physical_health' column\n",
    "physical_health_distribution = main_df.groupBy(\"physical_health\").count()\n",
    "physical_health_distribution.show()"
   ]
  },
  {
   "cell_type": "code",
   "execution_count": 23,
   "id": "26218ec1",
   "metadata": {},
   "outputs": [
    {
     "name": "stdout",
     "output_type": "stream",
     "text": [
      "+------------+------+--------+---------+-----------------+------+------+--------------------+------------+------+-------+-----------------+-------------+-----------+-------+--------+--------+---+---+---------------+----------------------+------------------------------+\n",
      "|Diabetes_012|HighBP|HighChol|CholCheck|              BMI|Smoker|Stroke|HeartDiseaseorAttack|PhysActivity|Fruits|Veggies|HvyAlcoholConsump|AnyHealthcare|NoDocbcCost|GenHlth|PhysHlth|DiffWalk|Sex|Age|physical_health|Cardiovascular Disease|Diseases of Metabolic Syndrome|\n",
      "+------------+------+--------+---------+-----------------+------+------+--------------------+------------+------+-------+-----------------+-------------+-----------+-------+--------+--------+---+---+---------------+----------------------+------------------------------+\n",
      "|           0|     0|       1|        1|               15|     1|     0|                   0|           0|     1|      1|                0|            1|          0|      5|      20|       0|  0| 11|              2|                     0|                             1|\n",
      "|           2|     1|       0|        1|               28|     0|     0|                   1|           0|     1|      0|                0|            1|          0|      2|       0|       0|  0| 11|              0|                     1|                             1|\n",
      "|           2|     1|       1|        1|               33|     0|     0|                   0|           1|     1|      1|                0|            1|          0|      2|       0|       0|  0|  9|              0|                     0|                             1|\n",
      "|           2|     0|       1|        1|               29|     0|     1|                   1|           1|     1|      1|                0|            1|          0|      5|      30|       1|  1| 12|              3|                     1|                             1|\n",
      "|           0|     0|       0|        1|               24|     1|     0|                   0|           0|     0|      0|                0|            1|          0|      3|       0|       1|  1| 13|              0|                     0|                             0|\n",
      "|           0|     1|       0|        1|28.95375059763316|     1|     0|                   0|           1|     1|      1|                0|            1|          0|      3|      25|       1|  0| 10|              3|                     0|                             1|\n",
      "|           0|     1|       1|        1|               27|     1|     0|                   0|           0|     0|      1|                0|            1|          0|      4|       0|       0|  0| 10|              0|                     0|                             1|\n",
      "|           2|     0|       0|        1|               24|     0|     0|                   1|           0|     0|      1|                0|            1|          0|      4|       0|       0|  1| 12|              0|                     1|                             0|\n",
      "|           0|     1|       1|        1|               30|     0|     0|                   0|           0|     1|      1|                0|            1|          0|      2|       0|       0|  0|  7|              0|                     0|                             1|\n",
      "|           0|     1|       1|        1|               36|     1|     0|                   0|           0|     0|      0|                0|            1|          0|      4|       0|       0|  1| 10|              0|                     0|                             1|\n",
      "|           2|     0|       0|        1|               33|     1|     0|                   0|           1|     0|      1|                0|            1|          0|      4|       0|       0|  1|  6|              0|                     0|                             0|\n",
      "|           2|     1|       1|        1|               30|     0|     0|                   0|           0|     1|      1|                0|            1|          0|      3|       4|       0|  0| 11|              1|                     0|                             1|\n",
      "|           2|     0|       0|        1|               27|     0|     0|                   0|           0|     0|      1|                0|            1|          0|      4|      30|       0|  1| 13|              3|                     0|                             0|\n",
      "|           2|     0|       0|        1|               31|     1|     0|                   0|           0|     1|      1|                0|            1|          0|      3|      10|       0|  0|  8|              1|                     0|                             0|\n",
      "|           0|     1|       1|        1|               27|     1|     0|                   0|           0|     1|      1|                0|            1|          0|      3|       2|       1|  0| 13|              1|                     0|                             1|\n",
      "|           0|     1|       1|        1|               35|     1|     0|                   0|           1|     1|      0|                0|            1|          0|      3|       3|       0|  0| 11|              1|                     0|                             1|\n",
      "|           0|     1|       1|        1|               30|     0|     0|                   0|           1|     1|      0|                0|            1|          0|      2|      10|       0|  0| 10|              1|                     0|                             1|\n",
      "|           0|     0|       0|        1|               31|     0|     0|                   0|           1|     1|      1|                0|            1|          0|      1|       2|       0|  1| 11|              1|                     0|                             0|\n",
      "|           1|     1|       1|        1|               33|     0|     0|                   0|           0|     1|      1|                0|            1|          0|      2|       0|       0|  0| 11|              0|                     0|                             1|\n",
      "|           0|     0|       0|        1|               31|     1|     0|                   0|           1|     1|      1|                0|            1|          0|      4|       0|       0|  0| 10|              0|                     0|                             0|\n",
      "+------------+------+--------+---------+-----------------+------+------+--------------------+------------+------+-------+-----------------+-------------+-----------+-------+--------+--------+---+---+---------------+----------------------+------------------------------+\n",
      "only showing top 20 rows\n",
      "\n"
     ]
    }
   ],
   "source": [
    "# Create new column 'Cardiovascular Disease' based on conditions\n",
    "main_df = main_df.withColumn(\"Cardiovascular Disease\", \n",
    "    when((col(\"HeartDiseaseorAttack\") == 1) | (col(\"Stroke\") == 1), 1).otherwise(0))\n",
    "\n",
    "# Create new column 'Diseases of Metabolic Syndrome' based on conditions\n",
    "main_df = main_df.withColumn(\"Diseases of Metabolic Syndrome\", \n",
    "    when((col(\"HighBP\") == 1) | (col(\"HighChol\") == 1), 1).otherwise(0))\n",
    "\n",
    "# Show the updated DataFrame to see the changes (optional)\n",
    "main_df.show()"
   ]
  },
  {
   "cell_type": "code",
   "execution_count": 24,
   "id": "a5e7c4cf",
   "metadata": {},
   "outputs": [
    {
     "name": "stderr",
     "output_type": "stream",
     "text": [
      "                                                                                \r"
     ]
    },
    {
     "name": "stdout",
     "output_type": "stream",
     "text": [
      "+----------------------+------+\n",
      "|Cardiovascular Disease| count|\n",
      "+----------------------+------+\n",
      "|                     1| 26589|\n",
      "|                     0|209789|\n",
      "+----------------------+------+\n",
      "\n",
      "+------------------------------+------+\n",
      "|Diseases of Metabolic Syndrome| count|\n",
      "+------------------------------+------+\n",
      "|                             1|138001|\n",
      "|                             0| 98377|\n",
      "+------------------------------+------+\n",
      "\n"
     ]
    }
   ],
   "source": [
    "# Count the values in the 'Cardiovascular Disease' column\n",
    "cardiovascular_disease_counts = main_df.groupBy(\"Cardiovascular Disease\").count()\n",
    "cardiovascular_disease_counts.show()\n",
    "\n",
    "# Count the values in the 'Diseases of Metabolic Syndrome' column\n",
    "metabolic_syndrome_counts = main_df.groupBy(\"Diseases of Metabolic Syndrome\").count()\n",
    "metabolic_syndrome_counts.show()"
   ]
  },
  {
   "cell_type": "markdown",
   "id": "787bc85d",
   "metadata": {},
   "source": [
    "### 3.4. Integrate various data sources"
   ]
  },
  {
   "cell_type": "code",
   "execution_count": 25,
   "id": "944d652a",
   "metadata": {},
   "outputs": [
    {
     "name": "stdout",
     "output_type": "stream",
     "text": [
      "+------------+------+--------+---------+-----------------+------+------+--------------------+------------+------+-------+-----------------+-------------+-----------+-------+--------+--------+---+---+---------------+----------------------+------------------------------+-----+------+-----+\n",
      "|Diabetes_012|HighBP|HighChol|CholCheck|              BMI|Smoker|Stroke|HeartDiseaseorAttack|PhysActivity|Fruits|Veggies|HvyAlcoholConsump|AnyHealthcare|NoDocbcCost|GenHlth|PhysHlth|DiffWalk|Sex|Age|physical_health|Cardiovascular Disease|Diseases of Metabolic Syndrome|index|Income|index|\n",
      "+------------+------+--------+---------+-----------------+------+------+--------------------+------------+------+-------+-----------------+-------------+-----------+-------+--------+--------+---+---+---------------+----------------------+------------------------------+-----+------+-----+\n",
      "|           0|     0|       1|        1|               15|     1|     0|                   0|           0|     1|      1|                0|            1|          0|      5|      20|       0|  0| 11|              2|                     0|                             1|    0|     5|    0|\n",
      "|           2|     1|       0|        1|               28|     0|     0|                   1|           0|     1|      0|                0|            1|          0|      2|       0|       0|  0| 11|              0|                     1|                             1|    1|     3|    1|\n",
      "|           2|     1|       1|        1|               33|     0|     0|                   0|           1|     1|      1|                0|            1|          0|      2|       0|       0|  0|  9|              0|                     0|                             1|    2|     7|    2|\n",
      "|           2|     0|       1|        1|               29|     0|     1|                   1|           1|     1|      1|                0|            1|          0|      5|      30|       1|  1| 12|              3|                     1|                             1|    3|     4|    3|\n",
      "|           0|     0|       0|        1|               24|     1|     0|                   0|           0|     0|      0|                0|            1|          0|      3|       0|       1|  1| 13|              0|                     0|                             0|    4|     6|    4|\n",
      "|           0|     1|       0|        1|28.95375059763316|     1|     0|                   0|           1|     1|      1|                0|            1|          0|      3|      25|       1|  0| 10|              3|                     0|                             1|    5|     8|    5|\n",
      "|           0|     1|       1|        1|               27|     1|     0|                   0|           0|     0|      1|                0|            1|          0|      4|       0|       0|  0| 10|              0|                     0|                             1|    6|     3|    6|\n",
      "|           2|     0|       0|        1|               24|     0|     0|                   1|           0|     0|      1|                0|            1|          0|      4|       0|       0|  1| 12|              0|                     1|                             0|    7|     7|    7|\n",
      "|           0|     1|       1|        1|               30|     0|     0|                   0|           0|     1|      1|                0|            1|          0|      2|       0|       0|  0|  7|              0|                     0|                             1|    8|     6|    8|\n",
      "|           0|     1|       1|        1|               36|     1|     0|                   0|           0|     0|      0|                0|            1|          0|      4|       0|       0|  1| 10|              0|                     0|                             1|    9|     8|    9|\n",
      "|           2|     0|       0|        1|               33|     1|     0|                   0|           1|     0|      1|                0|            1|          0|      4|       0|       0|  1|  6|              0|                     0|                             0|   10|     2|   10|\n",
      "|           2|     1|       1|        1|               30|     0|     0|                   0|           0|     1|      1|                0|            1|          0|      3|       4|       0|  0| 11|              1|                     0|                             1|   11|     4|   11|\n",
      "|           2|     0|       0|        1|               27|     0|     0|                   0|           0|     0|      1|                0|            1|          0|      4|      30|       0|  1| 13|              3|                     0|                             0|   12|     5|   12|\n",
      "|           2|     0|       0|        1|               31|     1|     0|                   0|           0|     1|      1|                0|            1|          0|      3|      10|       0|  0|  8|              1|                     0|                             0|   13|     8|   13|\n",
      "|           0|     1|       1|        1|               27|     1|     0|                   0|           0|     1|      1|                0|            1|          0|      3|       2|       1|  0| 13|              1|                     0|                             1|   14|     6|   14|\n",
      "|           0|     1|       1|        1|               35|     1|     0|                   0|           1|     1|      0|                0|            1|          0|      3|       3|       0|  0| 11|              1|                     0|                             1|   15|     5|   15|\n",
      "|           0|     1|       1|        1|               30|     0|     0|                   0|           1|     1|      0|                0|            1|          0|      2|      10|       0|  0| 10|              1|                     0|                             1|   16|     8|   16|\n",
      "|           0|     0|       0|        1|               31|     0|     0|                   0|           1|     1|      1|                0|            1|          0|      1|       2|       0|  1| 11|              1|                     0|                             0|   17|     8|   17|\n",
      "|           1|     1|       1|        1|               33|     0|     0|                   0|           0|     1|      1|                0|            1|          0|      2|       0|       0|  0| 11|              0|                     0|                             1|   18|     5|   18|\n",
      "|           0|     0|       0|        1|               31|     1|     0|                   0|           1|     1|      1|                0|            1|          0|      4|       0|       0|  0| 10|              0|                     0|                             0|   19|     6|   19|\n",
      "+------------+------+--------+---------+-----------------+------+------+--------------------+------------+------+-------+-----------------+-------------+-----------+-------+--------+--------+---+---+---------------+----------------------+------------------------------+-----+------+-----+\n",
      "only showing top 20 rows\n",
      "\n"
     ]
    }
   ],
   "source": [
    "main_df = main_df.withColumn(\"index\", monotonically_increasing_id())\n",
    "second_df = second_df.withColumn(\"index\", monotonically_increasing_id())\n",
    "\n",
    "# Perform the inner join on the index column\n",
    "final_df = main_df.join(second_df, main_df.index == second_df.index, how='inner')\n",
    "final_df.show()"
   ]
  },
  {
   "cell_type": "code",
   "execution_count": 26,
   "id": "b06195b1",
   "metadata": {},
   "outputs": [
    {
     "name": "stdout",
     "output_type": "stream",
     "text": [
      "The number of columns in final_df: 25\n",
      "The number of rows in final_df: 236378\n"
     ]
    }
   ],
   "source": [
    "num_columns = len(final_df.columns)\n",
    "print(f\"The number of columns in final_df: {num_columns}\")\n",
    "num_rows = final_df.count()\n",
    "print(f\"The number of rows in final_df: {num_rows}\")"
   ]
  },
  {
   "cell_type": "code",
   "execution_count": 27,
   "id": "f4169585",
   "metadata": {},
   "outputs": [
    {
     "name": "stdout",
     "output_type": "stream",
     "text": [
      "The number of columns in final_df: 23\n"
     ]
    }
   ],
   "source": [
    "final_df = final_df.drop('index')\n",
    "num_columns = len(final_df.columns)\n",
    "print(f\"The number of columns in final_df: {num_columns}\")"
   ]
  },
  {
   "cell_type": "markdown",
   "id": "aaf5a1f1",
   "metadata": {},
   "source": [
    "### 3.5. Format the data as required"
   ]
  },
  {
   "cell_type": "code",
   "execution_count": 28,
   "id": "aa1eda9c",
   "metadata": {},
   "outputs": [
    {
     "name": "stdout",
     "output_type": "stream",
     "text": [
      "+------------+------+--------+---------+---+------+------+--------------------+------------+------+-------+-----------------+-------------+-----------+-------+--------+--------+---+---+---------------+----------------------+------------------------------+------+\n",
      "|Diabetes_012|HighBP|HighChol|CholCheck|BMI|Smoker|Stroke|HeartDiseaseorAttack|PhysActivity|Fruits|Veggies|HvyAlcoholConsump|AnyHealthcare|NoDocbcCost|GenHlth|PhysHlth|DiffWalk|Sex|Age|physical_health|Cardiovascular Disease|Diseases of Metabolic Syndrome|Income|\n",
      "+------------+------+--------+---------+---+------+------+--------------------+------------+------+-------+-----------------+-------------+-----------+-------+--------+--------+---+---+---------------+----------------------+------------------------------+------+\n",
      "|           0|     0|       0|        0|  0|     0|     0|                   0|           0|     0|      0|                0|            0|          0|      0|       0|       0|  0|  0|              0|                     0|                             0|     0|\n",
      "+------------+------+--------+---------+---+------+------+--------------------+------------+------+-------+-----------------+-------------+-----------+-------+--------+--------+---+---+---------------+----------------------+------------------------------+------+\n",
      "\n"
     ]
    }
   ],
   "source": [
    "# Calculate the number of missing values per column\n",
    "final_missing_value = final_df.select([count(when(col(c).isNull(), c)).alias(c) for c in final_df.columns])\n",
    "final_missing_value.show()"
   ]
  },
  {
   "cell_type": "markdown",
   "id": "bbe7ee9f",
   "metadata": {},
   "source": [
    "## 4. "
   ]
  },
  {
   "cell_type": "code",
   "execution_count": 29,
   "id": "569e7ab4",
   "metadata": {},
   "outputs": [
    {
     "name": "stdout",
     "output_type": "stream",
     "text": [
      "+------------+------+\n",
      "|Diabetes_012| count|\n",
      "+------------+------+\n",
      "|           0|197191|\n",
      "|           1|  5619|\n",
      "|           2| 33568|\n",
      "+------------+------+\n",
      "\n"
     ]
    },
    {
     "name": "stderr",
     "output_type": "stream",
     "text": [
      "                                                                                \r"
     ]
    },
    {
     "name": "stdout",
     "output_type": "stream",
     "text": [
      "Minimum class size: 5619\n"
     ]
    },
    {
     "name": "stderr",
     "output_type": "stream",
     "text": [
      "[Stage 89:>                                                         (0 + 1) / 1]\r"
     ]
    },
    {
     "name": "stdout",
     "output_type": "stream",
     "text": [
      "+------------+-----+\n",
      "|Diabetes_012|count|\n",
      "+------------+-----+\n",
      "|           0| 5619|\n",
      "|           1| 5619|\n",
      "|           2| 5619|\n",
      "+------------+-----+\n",
      "\n"
     ]
    },
    {
     "name": "stderr",
     "output_type": "stream",
     "text": [
      "\r",
      "                                                                                \r"
     ]
    }
   ],
   "source": [
    "value_counts = final_df.groupBy(\"Diabetes_012\").count()\n",
    "value_counts.show()\n",
    "min_size = value_counts.agg({\"count\": \"min\"}).collect()[0][0]\n",
    "print(f\"Minimum class size: {min_size}\")\n",
    "windowSpec = Window.partitionBy(\"Diabetes_012\").orderBy(rand())\n",
    "final_df = final_df.withColumn(\"row_number\", row_number().over(windowSpec))\n",
    "balanced_data = final_df.filter(col(\"row_number\") <= min_size).drop(\"row_number\")\n",
    "balanced_data.groupBy(\"Diabetes_012\").count().show()"
   ]
  },
  {
   "cell_type": "code",
   "execution_count": 30,
   "id": "56c2ebfa",
   "metadata": {},
   "outputs": [
    {
     "name": "stderr",
     "output_type": "stream",
     "text": [
      "[Stage 128:>                                                        (0 + 1) / 1]\r"
     ]
    },
    {
     "name": "stdout",
     "output_type": "stream",
     "text": [
      "Test set accuracy = 0.5032245062474808\n",
      "GenHlth: 0.21333884621943663\n",
      "Diseases of Metabolic Syndrome: 0.19496958646936466\n",
      "HighBP: 0.18383625136286294\n",
      "Age: 0.09554931804062501\n",
      "BMI: 0.08886205909906654\n",
      "HighChol: 0.0462627899520565\n",
      "DiffWalk: 0.046003911828705585\n",
      "PhysActivity: 0.03308384630674443\n",
      "Cardiovascular Disease: 0.023057131908188137\n",
      "Income: 0.021300218878944753\n",
      "HeartDiseaseorAttack: 0.014856096267459635\n",
      "PhysHlth: 0.011855347010821896\n",
      "physical_health: 0.005720250467666654\n",
      "Sex: 0.004285689086399554\n",
      "CholCheck: 0.004067369742956981\n",
      "Stroke: 0.0028522518931771907\n",
      "HvyAlcoholConsump: 0.0026732314032923993\n",
      "AnyHealthcare: 0.0021121233025785187\n",
      "NoDocbcCost: 0.0020558735335636535\n",
      "Veggies: 0.0012781230309743034\n",
      "Fruits: 0.0010141572644015574\n",
      "Smoker: 0.0009655269307126209\n"
     ]
    },
    {
     "name": "stderr",
     "output_type": "stream",
     "text": [
      "\r",
      "                                                                                \r"
     ]
    }
   ],
   "source": [
    "columns_to_convert = [\n",
    "    'Age', 'Diabetes_012', 'HighBP', 'HighChol', 'CholCheck', 'BMI', 'Smoker',\n",
    "    'Stroke', 'HeartDiseaseorAttack', 'PhysActivity', 'Fruits', 'Veggies',\n",
    "    'HvyAlcoholConsump', 'AnyHealthcare', 'NoDocbcCost', 'GenHlth', 'PhysHlth',\n",
    "    'DiffWalk', 'physical_health', 'Cardiovascular Disease', 'Diseases of Metabolic Syndrome', \n",
    "    'Income', 'Sex']\n",
    "for column_name in columns_to_convert:\n",
    "    balanced_data = balanced_data.withColumn(column_name, col(column_name).cast(IntegerType()))\n",
    "\n",
    "\n",
    "feature_columns = [c for c in balanced_data.columns if c != 'Diabetes_012']\n",
    "assembler = VectorAssembler(inputCols=feature_columns, outputCol=\"features\")\n",
    "rf = RandomForestClassifier(labelCol=\"Diabetes_012\", featuresCol=\"features\", numTrees=100, seed=42)\n",
    "pipeline = Pipeline(stages=[assembler, rf])\n",
    "(trainingData, testData) = balanced_data.randomSplit([0.7, 0.3], seed=42)\n",
    "model = pipeline.fit(trainingData)\n",
    "predictions = model.transform(testData)\n",
    "evaluator = MulticlassClassificationEvaluator(\n",
    "    labelCol=\"Diabetes_012\", predictionCol=\"prediction\", metricName=\"accuracy\")\n",
    "accuracy = evaluator.evaluate(predictions)\n",
    "print(\"Test set accuracy = \" + str(accuracy))\n",
    "rfModel = model.stages[-1]\n",
    "importances = rfModel.featureImportances\n",
    "importances_list = importances.toArray().tolist()\n",
    "feature_importance_dict = dict(zip(feature_columns, importances_list))\n",
    "sorted_importance = sorted(feature_importance_dict.items(), key=lambda x: x[1], reverse=True)\n",
    "for feature, importance in sorted_importance:\n",
    "    print(f\"{feature}: {importance}\")\n"
   ]
  },
  {
   "cell_type": "code",
   "execution_count": 31,
   "id": "479848a8",
   "metadata": {},
   "outputs": [
    {
     "name": "stderr",
     "output_type": "stream",
     "text": [
      "\r",
      "[Stage 131:>                                                        (0 + 1) / 1]\r"
     ]
    },
    {
     "name": "stdout",
     "output_type": "stream",
     "text": [
      "+------------+------+--------+---------+---+------+--------------------+------------+-----------------+-------+--------+--------+---+---+---------------+----------------------+------------------------------+------+\n",
      "|Diabetes_012|HighBP|HighChol|CholCheck|BMI|Stroke|HeartDiseaseorAttack|PhysActivity|HvyAlcoholConsump|GenHlth|PhysHlth|DiffWalk|Sex|Age|physical_health|Cardiovascular Disease|Diseases of Metabolic Syndrome|Income|\n",
      "+------------+------+--------+---------+---+------+--------------------+------------+-----------------+-------+--------+--------+---+---+---------------+----------------------+------------------------------+------+\n",
      "|           0|     0|       0|        1| 30|     0|                   0|           1|                0|      2|       0|       0|  0|  4|              0|                     0|                             0|    11|\n",
      "|           0|     0|       0|        1| 40|     0|                   0|           1|                0|      1|       1|       0|  0|  6|              1|                     0|                             0|    10|\n",
      "|           0|     1|       0|        1| 28|     0|                   0|           0|                0|      4|       2|       0|  0|  2|              1|                     0|                             1|     5|\n",
      "|           0|     0|       1|        1| 34|     0|                   0|           1|                0|      5|      30|       1|  0|  5|              3|                     0|                             1|     3|\n",
      "|           0|     1|       1|        1| 28|     0|                   0|           1|                0|      2|       0|       0|  0|  6|              0|                     0|                             1|     6|\n",
      "|           0|     0|       1|        1| 40|     0|                   1|           1|                0|      2|       0|       0|  0|  6|              0|                     1|                             1|    11|\n",
      "|           0|     0|       0|        1| 25|     0|                   0|           1|                0|      4|       0|       0|  0| 10|              0|                     0|                             0|     7|\n",
      "|           0|     1|       1|        1| 32|     0|                   0|           0|                0|      5|      30|       1|  0|  9|              3|                     0|                             1|     7|\n",
      "|           0|     1|       1|        1| 23|     0|                   0|           1|                0|      1|       0|       0|  1| 11|              0|                     0|                             1|     6|\n",
      "|           0|     1|       1|        1| 33|     0|                   0|           1|                0|      2|       0|       0|  0| 11|              0|                     0|                             1|     6|\n",
      "|           0|     0|       0|        1| 30|     0|                   0|           0|                0|      1|       0|       0|  0|  7|              0|                     0|                             0|     6|\n",
      "|           0|     0|       0|        1| 26|     0|                   0|           1|                0|      1|       0|       0|  0|  7|              0|                     0|                             0|    11|\n",
      "|           0|     0|       0|        0| 36|     0|                   0|           1|                0|      2|       0|       0|  0|  5|              0|                     0|                             0|     6|\n",
      "|           0|     0|       0|        1| 29|     0|                   0|           1|                0|      2|       7|       0|  0|  8|              1|                     0|                             0|     1|\n",
      "|           0|     1|       1|        1| 26|     0|                   0|           1|                0|      1|       0|       0|  0| 12|              0|                     0|                             1|    10|\n",
      "|           0|     0|       0|        1| 33|     0|                   0|           1|                0|      3|       0|       0|  0|  7|              0|                     0|                             0|    11|\n",
      "|           0|     1|       0|        1| 27|     0|                   0|           1|                0|      5|      30|       1|  0|  5|              3|                     0|                             1|     7|\n",
      "|           0|     0|       1|        1| 27|     0|                   0|           1|                1|      2|       0|       0|  0| 12|              0|                     0|                             1|     8|\n",
      "|           0|     0|       0|        1| 24|     0|                   0|           0|                0|      3|      15|       0|  0|  9|              2|                     0|                             0|     9|\n",
      "|           0|     0|       0|        1| 33|     0|                   0|           0|                0|      3|       7|       0|  0|  4|              1|                     0|                             0|     6|\n",
      "+------------+------+--------+---------+---+------+--------------------+------------+-----------------+-------+--------+--------+---+---+---------------+----------------------+------------------------------+------+\n",
      "only showing top 20 rows\n",
      "\n"
     ]
    },
    {
     "name": "stderr",
     "output_type": "stream",
     "text": [
      "\r",
      "[Stage 133:>                                                        (0 + 1) / 1]\r",
      "\r",
      "                                                                                \r"
     ]
    }
   ],
   "source": [
    "balanced_data = balanced_data.drop('Fruits', 'AnyHealthcare', 'NoDocbcCost', 'Smoker', 'Veggies')\n",
    "balanced_data.show()"
   ]
  },
  {
   "cell_type": "code",
   "execution_count": 32,
   "id": "b74cc4c8",
   "metadata": {},
   "outputs": [
    {
     "name": "stderr",
     "output_type": "stream",
     "text": [
      "[Stage 137:>                                                        (0 + 1) / 1]\r"
     ]
    },
    {
     "name": "stdout",
     "output_type": "stream",
     "text": [
      "+------------+---------+---+------------+-----------------+-------+--------+---+---+---------------+----------------------+------------------------------+------+\n",
      "|Diabetes_012|CholCheck|BMI|PhysActivity|HvyAlcoholConsump|GenHlth|DiffWalk|Sex|Age|physical_health|Cardiovascular Disease|Diseases of Metabolic Syndrome|Income|\n",
      "+------------+---------+---+------------+-----------------+-------+--------+---+---+---------------+----------------------+------------------------------+------+\n",
      "|           0|        1| 30|           1|                0|      2|       0|  0|  4|              0|                     0|                             0|    11|\n",
      "|           0|        1| 40|           1|                0|      1|       0|  0|  6|              1|                     0|                             0|    10|\n",
      "|           0|        1| 28|           0|                0|      4|       0|  0|  2|              1|                     0|                             1|     5|\n",
      "|           0|        1| 34|           1|                0|      5|       1|  0|  5|              3|                     0|                             1|     3|\n",
      "|           0|        1| 28|           1|                0|      2|       0|  0|  6|              0|                     0|                             1|     6|\n",
      "|           0|        1| 40|           1|                0|      2|       0|  0|  6|              0|                     1|                             1|    11|\n",
      "|           0|        1| 25|           1|                0|      4|       0|  0| 10|              0|                     0|                             0|     7|\n",
      "|           0|        1| 32|           0|                0|      5|       1|  0|  9|              3|                     0|                             1|     7|\n",
      "|           0|        1| 23|           1|                0|      1|       0|  1| 11|              0|                     0|                             1|     6|\n",
      "|           0|        1| 33|           1|                0|      2|       0|  0| 11|              0|                     0|                             1|     6|\n",
      "|           0|        1| 30|           0|                0|      1|       0|  0|  7|              0|                     0|                             0|     6|\n",
      "|           0|        1| 26|           1|                0|      1|       0|  0|  7|              0|                     0|                             0|    11|\n",
      "|           0|        0| 36|           1|                0|      2|       0|  0|  5|              0|                     0|                             0|     6|\n",
      "|           0|        1| 29|           1|                0|      2|       0|  0|  8|              1|                     0|                             0|     1|\n",
      "|           0|        1| 26|           1|                0|      1|       0|  0| 12|              0|                     0|                             1|    10|\n",
      "|           0|        1| 33|           1|                0|      3|       0|  0|  7|              0|                     0|                             0|    11|\n",
      "|           0|        1| 27|           1|                0|      5|       1|  0|  5|              3|                     0|                             1|     7|\n",
      "|           0|        1| 27|           1|                1|      2|       0|  0| 12|              0|                     0|                             1|     8|\n",
      "|           0|        1| 24|           0|                0|      3|       0|  0|  9|              2|                     0|                             0|     9|\n",
      "|           0|        1| 33|           0|                0|      3|       0|  0|  4|              1|                     0|                             0|     6|\n",
      "+------------+---------+---+------------+-----------------+-------+--------+---+---+---------------+----------------------+------------------------------+------+\n",
      "only showing top 20 rows\n",
      "\n"
     ]
    },
    {
     "name": "stderr",
     "output_type": "stream",
     "text": [
      "\r",
      "                                                                                \r"
     ]
    }
   ],
   "source": [
    "balanced_data = balanced_data.drop('HeartDiseaseorAttack', 'Stroke', 'HighBP', 'HighChol', 'PhysHlth')\n",
    "balanced_data.show()"
   ]
  },
  {
   "cell_type": "code",
   "execution_count": 33,
   "id": "331da287",
   "metadata": {},
   "outputs": [
    {
     "name": "stdout",
     "output_type": "stream",
     "text": [
      "root\n",
      " |-- Diabetes_012: integer (nullable = true)\n",
      " |-- CholCheck: integer (nullable = true)\n",
      " |-- BMI: integer (nullable = true)\n",
      " |-- PhysActivity: integer (nullable = true)\n",
      " |-- HvyAlcoholConsump: integer (nullable = true)\n",
      " |-- GenHlth: integer (nullable = true)\n",
      " |-- DiffWalk: integer (nullable = true)\n",
      " |-- Sex: integer (nullable = true)\n",
      " |-- physical_health: integer (nullable = true)\n",
      " |-- Cardiovascular Disease: integer (nullable = false)\n",
      " |-- Diseases of Metabolic Syndrome: integer (nullable = false)\n",
      " |-- Income: integer (nullable = true)\n",
      " |-- AgeGroup: integer (nullable = false)\n",
      "\n",
      "DataFrame information:\n"
     ]
    },
    {
     "name": "stderr",
     "output_type": "stream",
     "text": [
      "                                                                                \r"
     ]
    },
    {
     "name": "stdout",
     "output_type": "stream",
     "text": [
      "Column: Diabetes_012, Type: int, Non-null Count: 16857\n"
     ]
    },
    {
     "name": "stderr",
     "output_type": "stream",
     "text": [
      "                                                                                \r"
     ]
    },
    {
     "name": "stdout",
     "output_type": "stream",
     "text": [
      "Column: CholCheck, Type: int, Non-null Count: 16857\n"
     ]
    },
    {
     "name": "stderr",
     "output_type": "stream",
     "text": [
      "                                                                                \r"
     ]
    },
    {
     "name": "stdout",
     "output_type": "stream",
     "text": [
      "Column: BMI, Type: int, Non-null Count: 16857\n"
     ]
    },
    {
     "name": "stderr",
     "output_type": "stream",
     "text": [
      "                                                                                \r"
     ]
    },
    {
     "name": "stdout",
     "output_type": "stream",
     "text": [
      "Column: PhysActivity, Type: int, Non-null Count: 16857\n"
     ]
    },
    {
     "name": "stderr",
     "output_type": "stream",
     "text": [
      "                                                                                \r"
     ]
    },
    {
     "name": "stdout",
     "output_type": "stream",
     "text": [
      "Column: HvyAlcoholConsump, Type: int, Non-null Count: 16857\n"
     ]
    },
    {
     "name": "stderr",
     "output_type": "stream",
     "text": [
      "                                                                                \r"
     ]
    },
    {
     "name": "stdout",
     "output_type": "stream",
     "text": [
      "Column: GenHlth, Type: int, Non-null Count: 16857\n"
     ]
    },
    {
     "name": "stderr",
     "output_type": "stream",
     "text": [
      "                                                                                \r"
     ]
    },
    {
     "name": "stdout",
     "output_type": "stream",
     "text": [
      "Column: DiffWalk, Type: int, Non-null Count: 16857\n"
     ]
    },
    {
     "name": "stderr",
     "output_type": "stream",
     "text": [
      "                                                                                \r"
     ]
    },
    {
     "name": "stdout",
     "output_type": "stream",
     "text": [
      "Column: Sex, Type: int, Non-null Count: 16857\n"
     ]
    },
    {
     "name": "stderr",
     "output_type": "stream",
     "text": [
      "                                                                                \r"
     ]
    },
    {
     "name": "stdout",
     "output_type": "stream",
     "text": [
      "Column: physical_health, Type: int, Non-null Count: 16857\n"
     ]
    },
    {
     "name": "stderr",
     "output_type": "stream",
     "text": [
      "                                                                                \r"
     ]
    },
    {
     "name": "stdout",
     "output_type": "stream",
     "text": [
      "Column: Cardiovascular Disease, Type: int, Non-null Count: 16857\n"
     ]
    },
    {
     "name": "stderr",
     "output_type": "stream",
     "text": [
      "                                                                                \r"
     ]
    },
    {
     "name": "stdout",
     "output_type": "stream",
     "text": [
      "Column: Diseases of Metabolic Syndrome, Type: int, Non-null Count: 16857\n",
      "Column: Income, Type: int, Non-null Count: 16857\n"
     ]
    },
    {
     "name": "stderr",
     "output_type": "stream",
     "text": [
      "\r",
      "[Stage 223:>                                                        (0 + 1) / 1]\r"
     ]
    },
    {
     "name": "stdout",
     "output_type": "stream",
     "text": [
      "Column: AgeGroup, Type: int, Non-null Count: 16857\n"
     ]
    },
    {
     "name": "stderr",
     "output_type": "stream",
     "text": [
      "\r",
      "[Stage 225:>                                                        (0 + 1) / 1]\r",
      "\r",
      "                                                                                \r"
     ]
    }
   ],
   "source": [
    "balanced_data = balanced_data.withColumn(\"AgeGroup\",\n",
    "    when(col(\"Age\") < 4, 0)\n",
    "    .when(col(\"Age\") < 8, 1)\n",
    "    .otherwise(2)\n",
    ")\n",
    "\n",
    "# Drop the 'Age' column\n",
    "balanced_data = balanced_data.drop('Age')\n",
    "\n",
    "# Assigning the result to another DataFrame (if necessary)\n",
    "resulte = balanced_data\n",
    "\n",
    "# Display DataFrame structure using printSchema() to mimic pandas info()\n",
    "resulte.printSchema()\n",
    "\n",
    "# Calculate and print the number of each data type\n",
    "print(\"DataFrame information:\")\n",
    "for dtype in resulte.dtypes:\n",
    "    count = resulte.filter(resulte[dtype[0]].cast(dtype[1]) == resulte[dtype[0]]).count()\n",
    "    print(f\"Column: {dtype[0]}, Type: {dtype[1]}, Non-null Count: {count}\")"
   ]
  },
  {
   "cell_type": "markdown",
   "id": "c30322a8",
   "metadata": {},
   "source": [
    "## 6."
   ]
  },
  {
   "cell_type": "code",
   "execution_count": 34,
   "id": "8cb793f8",
   "metadata": {},
   "outputs": [],
   "source": [
    "# Specify the input columns (features) and the output column (features vector)\n",
    "feature_columns = [c for c in resulte.columns if c != 'Diabetes_012']\n",
    "assembler = VectorAssembler(inputCols=feature_columns, outputCol=\"features\")\n",
    "\n",
    "# Transform data to have feature vectors\n",
    "data = assembler.transform(resulte)\n",
    "# Split the data into training and testing sets\n",
    "train_data, test_data = data.randomSplit([0.7, 0.3], seed=42)"
   ]
  },
  {
   "cell_type": "code",
   "execution_count": 35,
   "id": "abf00871",
   "metadata": {},
   "outputs": [
    {
     "name": "stderr",
     "output_type": "stream",
     "text": [
      "[Stage 246:>                                                        (0 + 1) / 1]\r"
     ]
    },
    {
     "name": "stdout",
     "output_type": "stream",
     "text": [
      "Naive Bayes training accuracy: 0.49701555275325765\n",
      "Naive Bayes testing accuracy: 0.4909310761789601\n"
     ]
    },
    {
     "name": "stderr",
     "output_type": "stream",
     "text": [
      "\r",
      "                                                                                \r"
     ]
    }
   ],
   "source": [
    "# Create the Naive Bayes model\n",
    "nb = NaiveBayes(labelCol=\"Diabetes_012\", featuresCol=\"features\", modelType=\"gaussian\")\n",
    "\n",
    "# Train the model\n",
    "nb_model = nb.fit(train_data)\n",
    "\n",
    "# Predictions\n",
    "predictions = nb_model.transform(test_data)\n",
    "\n",
    "# Evaluate the model\n",
    "evaluator = MulticlassClassificationEvaluator(labelCol=\"Diabetes_012\", predictionCol=\"prediction\", metricName=\"accuracy\")\n",
    "train_accuracy = evaluator.evaluate(nb_model.transform(train_data))\n",
    "test_accuracy = evaluator.evaluate(predictions)\n",
    "\n",
    "# Print the accuracies\n",
    "print(f'Naive Bayes training accuracy: {train_accuracy}')\n",
    "print(f'Naive Bayes testing accuracy: {test_accuracy}')"
   ]
  },
  {
   "cell_type": "code",
   "execution_count": null,
   "id": "879008ea",
   "metadata": {},
   "outputs": [],
   "source": [
    "train_data_list = train_data.collect()\n",
    "train_data_broadcast = spark.sparkContext.broadcast(train_data_list)\n",
    "\n",
    "def knn_predict(features):\n",
    "    k = 3  \n",
    "    train_data = train_data_broadcast.value\n",
    "    distances = []\n",
    "    for row in train_data:\n",
    "        dist = float(Vectors.squared_distance(features, Vectors.dense(row['features'])))\n",
    "        distances.append((dist, row['Diabetes_012']))\n",
    "    distances.sort(key=lambda x: x[0])\n",
    "    nearest_labels = [dist[1] for dist in distances[:k]]\n",
    "    prediction = max(set(nearest_labels), key=nearest_labels.count)\n",
    "    return prediction\n",
    "\n",
    "knn_predict_udf = udf(knn_predict, IntegerType())\n",
    "\n",
    "knn_train_data = train_data.withColumn(\"prediction\", knn_predict_udf(col(\"features\"))).withColumn(\"prediction\", col(\"prediction\").cast(DoubleType()))\n",
    "knn_test_data = test_data.withColumn(\"prediction\", knn_predict_udf(col(\"features\"))).withColumn(\"prediction\", col(\"prediction\").cast(DoubleType()))\n",
    "\n",
    "evaluator = MulticlassClassificationEvaluator(labelCol=\"Diabetes_012\", predictionCol=\"prediction\", metricName=\"accuracy\")\n",
    "\n",
    "test_accuracy = evaluator.evaluate(knn_test_data)\n",
    "train_accuracy = evaluator.evaluate(knn_train_data)\n",
    "\n",
    "print(f'KNN training accuracy: {train_accuracy}')\n",
    "print(f'KNN testing accuracy: {test_accuracy}')"
   ]
  },
  {
   "cell_type": "code",
   "execution_count": 36,
   "id": "24511086",
   "metadata": {},
   "outputs": [
    {
     "name": "stderr",
     "output_type": "stream",
     "text": [
      "24/05/23 15:42:21 WARN InstanceBuilder$NativeBLAS: Failed to load implementation from:dev.ludovic.netlib.blas.JNIBLAS\n",
      "24/05/23 15:42:21 WARN InstanceBuilder$NativeBLAS: Failed to load implementation from:dev.ludovic.netlib.blas.ForeignLinkerBLAS\n",
      "[Stage 444:>                                                        (0 + 1) / 1]\r"
     ]
    },
    {
     "name": "stdout",
     "output_type": "stream",
     "text": [
      "One-vs-Rest SVC training accuracy: 0.48675914249684743\n"
     ]
    },
    {
     "name": "stderr",
     "output_type": "stream",
     "text": [
      "[Stage 449:>                                                        (0 + 1) / 1]\r"
     ]
    },
    {
     "name": "stdout",
     "output_type": "stream",
     "text": [
      "One-vs-Rest SVC test accuracy: 0.4758162031438936\n"
     ]
    },
    {
     "name": "stderr",
     "output_type": "stream",
     "text": [
      "\r",
      "                                                                                \r"
     ]
    }
   ],
   "source": [
    "from pyspark.ml.classification import OneVsRest\n",
    "from pyspark.ml.classification import LinearSVC\n",
    "\n",
    "lsvc = LinearSVC(maxIter=10, regParam=0.1)\n",
    "\n",
    "# Initialize One Vs Rest with the base classifier\n",
    "ovr = OneVsRest(classifier=lsvc, labelCol=\"Diabetes_012\", featuresCol=\"features\")\n",
    "\n",
    "# Train the multiclass model\n",
    "ovrModel = ovr.fit(train_data)\n",
    "\n",
    "train_predictions_ovr = ovrModel.transform(train_data)\n",
    "test_predictions_ovr = ovrModel.transform(test_data)\n",
    "\n",
    "evaluator_ovr = MulticlassClassificationEvaluator(labelCol=\"Diabetes_012\", predictionCol=\"prediction\", metricName=\"accuracy\")\n",
    "\n",
    "train_accuracy_ovr = evaluator_ovr.evaluate(train_predictions_ovr)\n",
    "print(f'One-vs-Rest SVC training accuracy: {train_accuracy_ovr}')\n",
    "\n",
    "test_accuracy_ovr = evaluator_ovr.evaluate(test_predictions_ovr)\n",
    "print(f'One-vs-Rest SVC test accuracy: {test_accuracy_ovr}')"
   ]
  },
  {
   "cell_type": "code",
   "execution_count": 43,
   "id": "e99e5c98",
   "metadata": {},
   "outputs": [
    {
     "name": "stdout",
     "output_type": "stream",
     "text": [
      "Best model parameters: [0.1, 10]\n"
     ]
    }
   ],
   "source": [
    "from pyspark.ml.tuning import CrossValidator, ParamGridBuilder\n",
    "\n",
    "lsvc = LinearSVC(maxIter=10, regParam=0.1)\n",
    "ovr = OneVsRest(classifier=lsvc, labelCol=\"Diabetes_012\", featuresCol=\"features\")\n",
    "\n",
    "paramGrid = ParamGridBuilder() \\\n",
    "    .addGrid(lsvc.regParam, [0.1, 1.0, 10.0]) \\\n",
    "    .addGrid(lsvc.maxIter, [10, 100, 1000]) \\\n",
    "    .build()\n",
    "\n",
    "evaluator = MulticlassClassificationEvaluator(labelCol=\"Diabetes_012\", predictionCol=\"prediction\", metricName=\"accuracy\")\n",
    "\n",
    "crossval = CrossValidator(estimator=ovr,\n",
    "                          estimatorParamMaps=paramGrid,\n",
    "                          evaluator=evaluator,\n",
    "                          numFolds=5)  # Use 5-fold cross validation\n",
    "\n",
    "cvModel = crossval.fit(train_data)\n",
    "\n",
    "bestModel = cvModel.bestModel\n",
    "bestLsvcModel = bestModel.getClassifier().extractParamMap()\n",
    "print(\"Best model parameters:\", bestLsvcModel)"
   ]
  },
  {
   "cell_type": "markdown",
   "id": "a8db0091",
   "metadata": {},
   "source": [
    "## 7."
   ]
  },
  {
   "cell_type": "code",
   "execution_count": 44,
   "id": "6813a0cc",
   "metadata": {},
   "outputs": [
    {
     "name": "stderr",
     "output_type": "stream",
     "text": [
      "                                                                                \r"
     ]
    },
    {
     "name": "stdout",
     "output_type": "stream",
     "text": [
      "One-vs-Rest SVC training accuracy: 0.4861674658797492\n"
     ]
    },
    {
     "name": "stderr",
     "output_type": "stream",
     "text": [
      "[Stage 3173:>                                                       (0 + 1) / 1]\r"
     ]
    },
    {
     "name": "stdout",
     "output_type": "stream",
     "text": [
      "One-vs-Rest SVC test accuracy: 0.4788007268322229\n"
     ]
    },
    {
     "name": "stderr",
     "output_type": "stream",
     "text": [
      "\r",
      "                                                                                \r"
     ]
    }
   ],
   "source": [
    "from pyspark.ml.classification import OneVsRest\n",
    "from pyspark.ml.classification import LinearSVC\n",
    "\n",
    "lsvc = LinearSVC(maxIter=10, regParam=0.1)\n",
    "\n",
    "# Initialize One Vs Rest with the base classifier\n",
    "ovr = OneVsRest(classifier=lsvc, labelCol=\"Diabetes_012\", featuresCol=\"features\")\n",
    "\n",
    "# Train the multiclass model\n",
    "ovrModel = ovr.fit(train_data)\n",
    "\n",
    "train_predictions_ovr = ovrModel.transform(train_data)\n",
    "test_predictions_ovr = ovrModel.transform(test_data)\n",
    "\n",
    "evaluator_ovr = MulticlassClassificationEvaluator(labelCol=\"Diabetes_012\", predictionCol=\"prediction\", metricName=\"accuracy\")\n",
    "\n",
    "train_accuracy_ovr = evaluator_ovr.evaluate(train_predictions_ovr)\n",
    "print(f'One-vs-Rest SVC training accuracy: {train_accuracy_ovr}')\n",
    "\n",
    "test_accuracy_ovr = evaluator_ovr.evaluate(test_predictions_ovr)\n",
    "print(f'One-vs-Rest SVC test accuracy: {test_accuracy_ovr}')"
   ]
  },
  {
   "cell_type": "code",
   "execution_count": 45,
   "id": "27ca8707",
   "metadata": {},
   "outputs": [
    {
     "name": "stderr",
     "output_type": "stream",
     "text": [
      "[Stage 3185:>                                                       (0 + 1) / 1]\r"
     ]
    },
    {
     "name": "stdout",
     "output_type": "stream",
     "text": [
      "1: 160\n",
      "0: 1759\n"
     ]
    },
    {
     "name": "stderr",
     "output_type": "stream",
     "text": [
      "\r",
      "                                                                                \r"
     ]
    }
   ],
   "source": [
    "predictions = ovrModel.transform(test_data)\n",
    "\n",
    "# Adding a new column that converts prediction scores to binary class labels\n",
    "predictions = predictions.withColumn(\"predictedLabel\", predictions.prediction.cast(\"integer\"))\n",
    "\n",
    "# Calculate positive and negative cases\n",
    "positive_cases = predictions.filter(col(\"predictedLabel\") == 1).count()\n",
    "negative_cases = predictions.filter(col(\"predictedLabel\") == 0).count()\n",
    "\n",
    "# Print results\n",
    "print(f\"1: {positive_cases}\")\n",
    "print(f\"0: {negative_cases}\")"
   ]
  },
  {
   "cell_type": "markdown",
   "id": "9dc152f8",
   "metadata": {},
   "source": [
    "## 8."
   ]
  },
  {
   "cell_type": "code",
   "execution_count": 46,
   "id": "e83f2866",
   "metadata": {},
   "outputs": [
    {
     "name": "stderr",
     "output_type": "stream",
     "text": [
      "                                                                                \r"
     ]
    },
    {
     "name": "stdout",
     "output_type": "stream",
     "text": [
      "One-vs-Rest SVC training accuracy: 0.48675914249684743\n"
     ]
    },
    {
     "name": "stderr",
     "output_type": "stream",
     "text": [
      "[Stage 3390:>                                                       (0 + 1) / 1]\r"
     ]
    },
    {
     "name": "stdout",
     "output_type": "stream",
     "text": [
      "One-vs-Rest SVC test accuracy: 0.4758162031438936\n"
     ]
    },
    {
     "name": "stderr",
     "output_type": "stream",
     "text": [
      "\r",
      "                                                                                \r"
     ]
    }
   ],
   "source": [
    "train_data, test_data = data.randomSplit([0.7, 0.3], seed=42)\n",
    "\n",
    "from pyspark.ml.classification import OneVsRest\n",
    "from pyspark.ml.classification import LinearSVC\n",
    "\n",
    "lsvc = LinearSVC(maxIter=10, regParam=0.1)\n",
    "\n",
    "# Initialize One Vs Rest with the base classifier\n",
    "ovr = OneVsRest(classifier=lsvc, labelCol=\"Diabetes_012\", featuresCol=\"features\")\n",
    "\n",
    "# Train the multiclass model\n",
    "ovrModel = ovr.fit(train_data)\n",
    "\n",
    "train_predictions_ovr = ovrModel.transform(train_data)\n",
    "test_predictions_ovr = ovrModel.transform(test_data)\n",
    "\n",
    "evaluator_ovr = MulticlassClassificationEvaluator(labelCol=\"Diabetes_012\", predictionCol=\"prediction\", metricName=\"accuracy\")\n",
    "\n",
    "train_accuracy_ovr = evaluator_ovr.evaluate(train_predictions_ovr)\n",
    "print(f'One-vs-Rest SVC training accuracy: {train_accuracy_ovr}')\n",
    "\n",
    "test_accuracy_ovr = evaluator_ovr.evaluate(test_predictions_ovr)\n",
    "print(f'One-vs-Rest SVC test accuracy: {test_accuracy_ovr}')"
   ]
  },
  {
   "cell_type": "code",
   "execution_count": 47,
   "id": "d0afd74f",
   "metadata": {},
   "outputs": [
    {
     "name": "stderr",
     "output_type": "stream",
     "text": [
      "                                                                                \r"
     ]
    },
    {
     "name": "stdout",
     "output_type": "stream",
     "text": [
      "One-vs-Rest SVC training accuracy: 0.4861674658797492\n"
     ]
    },
    {
     "name": "stderr",
     "output_type": "stream",
     "text": [
      "[Stage 3593:>                                                       (0 + 1) / 1]\r"
     ]
    },
    {
     "name": "stdout",
     "output_type": "stream",
     "text": [
      "One-vs-Rest SVC test accuracy: 0.4788007268322229\n"
     ]
    },
    {
     "name": "stderr",
     "output_type": "stream",
     "text": [
      "\r",
      "                                                                                \r"
     ]
    }
   ],
   "source": [
    "train_data, test_data = data.randomSplit([0.8, 0.2], seed=42)\n",
    "\n",
    "from pyspark.ml.classification import OneVsRest\n",
    "from pyspark.ml.classification import LinearSVC\n",
    "\n",
    "lsvc = LinearSVC(maxIter=10, regParam=0.1)\n",
    "\n",
    "# Initialize One Vs Rest with the base classifier\n",
    "ovr = OneVsRest(classifier=lsvc, labelCol=\"Diabetes_012\", featuresCol=\"features\")\n",
    "\n",
    "# Train the multiclass model\n",
    "ovrModel = ovr.fit(train_data)\n",
    "\n",
    "train_predictions_ovr = ovrModel.transform(train_data)\n",
    "test_predictions_ovr = ovrModel.transform(test_data)\n",
    "\n",
    "evaluator_ovr = MulticlassClassificationEvaluator(labelCol=\"Diabetes_012\", predictionCol=\"prediction\", metricName=\"accuracy\")\n",
    "\n",
    "train_accuracy_ovr = evaluator_ovr.evaluate(train_predictions_ovr)\n",
    "print(f'One-vs-Rest SVC training accuracy: {train_accuracy_ovr}')\n",
    "\n",
    "test_accuracy_ovr = evaluator_ovr.evaluate(test_predictions_ovr)\n",
    "print(f'One-vs-Rest SVC test accuracy: {test_accuracy_ovr}')"
   ]
  },
  {
   "cell_type": "code",
   "execution_count": null,
   "id": "7d84a18b",
   "metadata": {},
   "outputs": [],
   "source": []
  }
 ],
 "metadata": {
  "kernelspec": {
   "display_name": "Python 3 (ipykernel)",
   "language": "python",
   "name": "python3"
  },
  "language_info": {
   "codemirror_mode": {
    "name": "ipython",
    "version": 3
   },
   "file_extension": ".py",
   "mimetype": "text/x-python",
   "name": "python",
   "nbconvert_exporter": "python",
   "pygments_lexer": "ipython3",
   "version": "3.10.4"
  }
 },
 "nbformat": 4,
 "nbformat_minor": 5
}
